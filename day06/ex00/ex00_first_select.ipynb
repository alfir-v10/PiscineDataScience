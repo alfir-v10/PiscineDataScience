{
 "cells": [
  {
   "cell_type": "code",
   "execution_count": 1,
   "metadata": {
    "collapsed": true
   },
   "outputs": [],
   "source": [
    "import pandas as pd\n",
    "import sqlite3"
   ]
  },
  {
   "cell_type": "code",
   "execution_count": 25,
   "outputs": [],
   "source": [
    "sql_conn = sqlite3.connect('../data/checking-logs.sqlite')"
   ],
   "metadata": {
    "collapsed": false,
    "pycharm": {
     "name": "#%%\n"
    }
   }
  },
  {
   "cell_type": "code",
   "execution_count": 26,
   "outputs": [
    {
     "data": {
      "text/plain": "   cid      name       type  notnull dflt_value  pk\n0    0     index    INTEGER        0       None   0\n1    1       uid       TEXT        0       None   0\n2    2  datetime  TIMESTAMP        0       None   0",
      "text/html": "<div>\n<style scoped>\n    .dataframe tbody tr th:only-of-type {\n        vertical-align: middle;\n    }\n\n    .dataframe tbody tr th {\n        vertical-align: top;\n    }\n\n    .dataframe thead th {\n        text-align: right;\n    }\n</style>\n<table border=\"1\" class=\"dataframe\">\n  <thead>\n    <tr style=\"text-align: right;\">\n      <th></th>\n      <th>cid</th>\n      <th>name</th>\n      <th>type</th>\n      <th>notnull</th>\n      <th>dflt_value</th>\n      <th>pk</th>\n    </tr>\n  </thead>\n  <tbody>\n    <tr>\n      <th>0</th>\n      <td>0</td>\n      <td>index</td>\n      <td>INTEGER</td>\n      <td>0</td>\n      <td>None</td>\n      <td>0</td>\n    </tr>\n    <tr>\n      <th>1</th>\n      <td>1</td>\n      <td>uid</td>\n      <td>TEXT</td>\n      <td>0</td>\n      <td>None</td>\n      <td>0</td>\n    </tr>\n    <tr>\n      <th>2</th>\n      <td>2</td>\n      <td>datetime</td>\n      <td>TIMESTAMP</td>\n      <td>0</td>\n      <td>None</td>\n      <td>0</td>\n    </tr>\n  </tbody>\n</table>\n</div>"
     },
     "execution_count": 26,
     "metadata": {},
     "output_type": "execute_result"
    }
   ],
   "source": [
    "pd.io.sql.read_sql(\"PRAGMA table_info(pageviews);\", sql_conn)"
   ],
   "metadata": {
    "collapsed": false,
    "pycharm": {
     "name": "#%%\n"
    }
   }
  },
  {
   "cell_type": "code",
   "execution_count": 27,
   "outputs": [
    {
     "data": {
      "text/plain": "[(0, 'admin_1', '2020-04-17 12:01:08.463179'),\n (1, 'admin_1', '2020-04-17 12:01:23.743946'),\n (2, 'admin_3', '2020-04-17 12:17:39.287778'),\n (3, 'admin_3', '2020-04-17 12:17:40.001768'),\n (4, 'admin_1', '2020-04-17 12:27:30.646665'),\n (5, 'admin_1', '2020-04-17 12:35:44.884757'),\n (6, 'admin_1', '2020-04-17 12:35:52.735016'),\n (7, 'admin_3', '2020-04-17 12:36:21.401412'),\n (8, 'admin_3', '2020-04-17 12:36:22.023355'),\n (9, 'admin_1', '2020-04-17 13:55:19.129243')]"
     },
     "execution_count": 27,
     "metadata": {},
     "output_type": "execute_result"
    }
   ],
   "source": [
    "cur = sql_conn.cursor()\n",
    "cur.execute('SELECT * FROM pageviews')\n",
    "cur.fetchmany(10)"
   ],
   "metadata": {
    "collapsed": false,
    "pycharm": {
     "name": "#%%\n"
    }
   }
  },
  {
   "cell_type": "code",
   "execution_count": 28,
   "outputs": [
    {
     "data": {
      "text/plain": "                                uid\ndatetime                           \n2020-04-26 21:53:59.624136   user_1\n2020-04-26 22:06:19.478143   user_1\n2020-04-26 22:12:09.614497   user_1\n2020-04-30 19:29:01.831635   user_1\n2020-05-05 20:26:32.894852   user_1\n...                             ...\n2020-04-29 16:51:21.877630  user_30\n2020-05-09 20:30:47.034282  user_30\n2020-05-22 11:30:18.368990   user_5\n2020-05-21 16:28:28.217529   user_9\n2020-05-21 16:36:40.915488   user_9\n\n[987 rows x 1 columns]",
      "text/html": "<div>\n<style scoped>\n    .dataframe tbody tr th:only-of-type {\n        vertical-align: middle;\n    }\n\n    .dataframe tbody tr th {\n        vertical-align: top;\n    }\n\n    .dataframe thead th {\n        text-align: right;\n    }\n</style>\n<table border=\"1\" class=\"dataframe\">\n  <thead>\n    <tr style=\"text-align: right;\">\n      <th></th>\n      <th>uid</th>\n    </tr>\n    <tr>\n      <th>datetime</th>\n      <th></th>\n    </tr>\n  </thead>\n  <tbody>\n    <tr>\n      <th>2020-04-26 21:53:59.624136</th>\n      <td>user_1</td>\n    </tr>\n    <tr>\n      <th>2020-04-26 22:06:19.478143</th>\n      <td>user_1</td>\n    </tr>\n    <tr>\n      <th>2020-04-26 22:12:09.614497</th>\n      <td>user_1</td>\n    </tr>\n    <tr>\n      <th>2020-04-30 19:29:01.831635</th>\n      <td>user_1</td>\n    </tr>\n    <tr>\n      <th>2020-05-05 20:26:32.894852</th>\n      <td>user_1</td>\n    </tr>\n    <tr>\n      <th>...</th>\n      <td>...</td>\n    </tr>\n    <tr>\n      <th>2020-04-29 16:51:21.877630</th>\n      <td>user_30</td>\n    </tr>\n    <tr>\n      <th>2020-05-09 20:30:47.034282</th>\n      <td>user_30</td>\n    </tr>\n    <tr>\n      <th>2020-05-22 11:30:18.368990</th>\n      <td>user_5</td>\n    </tr>\n    <tr>\n      <th>2020-05-21 16:28:28.217529</th>\n      <td>user_9</td>\n    </tr>\n    <tr>\n      <th>2020-05-21 16:36:40.915488</th>\n      <td>user_9</td>\n    </tr>\n  </tbody>\n</table>\n<p>987 rows × 1 columns</p>\n</div>"
     },
     "execution_count": 28,
     "metadata": {},
     "output_type": "execute_result"
    }
   ],
   "source": [
    "query = \"\"\"\n",
    "    SELECT uid, datetime\n",
    "    FROM pageviews\n",
    "    WHERE uid LIKE 'user_%'\n",
    "    ORDER BY uid ASC\n",
    "    \"\"\"\n",
    "df = pd.io.sql.read_sql(query, sql_conn, index_col='datetime', parse_dates='datetime')\n",
    "df"
   ],
   "metadata": {
    "collapsed": false,
    "pycharm": {
     "name": "#%%\n"
    }
   }
  },
  {
   "cell_type": "code",
   "execution_count": 29,
   "outputs": [
    {
     "name": "stdout",
     "output_type": "stream",
     "text": [
      "<class 'pandas.core.frame.DataFrame'>\n",
      "DatetimeIndex: 987 entries, 2020-04-26 21:53:59.624136 to 2020-05-21 16:36:40.915488\n",
      "Data columns (total 1 columns):\n",
      " #   Column  Non-Null Count  Dtype \n",
      "---  ------  --------------  ----- \n",
      " 0   uid     987 non-null    object\n",
      "dtypes: object(1)\n",
      "memory usage: 15.4+ KB\n"
     ]
    }
   ],
   "source": [
    "df.info()"
   ],
   "metadata": {
    "collapsed": false,
    "pycharm": {
     "name": "#%%\n"
    }
   }
  },
  {
   "cell_type": "code",
   "execution_count": 30,
   "outputs": [],
   "source": [
    "cur.close()"
   ],
   "metadata": {
    "collapsed": false,
    "pycharm": {
     "name": "#%%\n"
    }
   }
  },
  {
   "cell_type": "code",
   "execution_count": 31,
   "outputs": [],
   "source": [
    "sql_conn.close()"
   ],
   "metadata": {
    "collapsed": false,
    "pycharm": {
     "name": "#%%\n"
    }
   }
  }
 ],
 "metadata": {
  "kernelspec": {
   "display_name": "Python 3",
   "language": "python",
   "name": "python3"
  },
  "language_info": {
   "codemirror_mode": {
    "name": "ipython",
    "version": 2
   },
   "file_extension": ".py",
   "mimetype": "text/x-python",
   "name": "python",
   "nbconvert_exporter": "python",
   "pygments_lexer": "ipython2",
   "version": "2.7.6"
  }
 },
 "nbformat": 4,
 "nbformat_minor": 0
}