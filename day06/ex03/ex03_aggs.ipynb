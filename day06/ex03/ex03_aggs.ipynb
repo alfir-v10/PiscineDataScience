{
 "cells": [
  {
   "cell_type": "code",
   "execution_count": 1,
   "metadata": {
    "collapsed": true
   },
   "outputs": [],
   "source": [
    "import pandas as pd\n",
    "import sqlite3"
   ]
  },
  {
   "cell_type": "code",
   "execution_count": 30,
   "outputs": [],
   "source": [
    "sql_conn = sqlite3.connect('../data/checking-logs.sqlite')"
   ],
   "metadata": {
    "collapsed": false,
    "pycharm": {
     "name": "#%%\n"
    }
   }
  },
  {
   "cell_type": "code",
   "execution_count": 31,
   "outputs": [
    {
     "data": {
      "text/plain": "   cid             name       type  notnull dflt_value  pk\n0    0            index    INTEGER        0       None   0\n1    1              uid       TEXT        0       None   0\n2    2          labname       TEXT        0       None   0\n3    3  first_commit_ts  TIMESTAMP        0       None   0\n4    4    first_view_ts  TIMESTAMP        0       None   0",
      "text/html": "<div>\n<style scoped>\n    .dataframe tbody tr th:only-of-type {\n        vertical-align: middle;\n    }\n\n    .dataframe tbody tr th {\n        vertical-align: top;\n    }\n\n    .dataframe thead th {\n        text-align: right;\n    }\n</style>\n<table border=\"1\" class=\"dataframe\">\n  <thead>\n    <tr style=\"text-align: right;\">\n      <th></th>\n      <th>cid</th>\n      <th>name</th>\n      <th>type</th>\n      <th>notnull</th>\n      <th>dflt_value</th>\n      <th>pk</th>\n    </tr>\n  </thead>\n  <tbody>\n    <tr>\n      <th>0</th>\n      <td>0</td>\n      <td>index</td>\n      <td>INTEGER</td>\n      <td>0</td>\n      <td>None</td>\n      <td>0</td>\n    </tr>\n    <tr>\n      <th>1</th>\n      <td>1</td>\n      <td>uid</td>\n      <td>TEXT</td>\n      <td>0</td>\n      <td>None</td>\n      <td>0</td>\n    </tr>\n    <tr>\n      <th>2</th>\n      <td>2</td>\n      <td>labname</td>\n      <td>TEXT</td>\n      <td>0</td>\n      <td>None</td>\n      <td>0</td>\n    </tr>\n    <tr>\n      <th>3</th>\n      <td>3</td>\n      <td>first_commit_ts</td>\n      <td>TIMESTAMP</td>\n      <td>0</td>\n      <td>None</td>\n      <td>0</td>\n    </tr>\n    <tr>\n      <th>4</th>\n      <td>4</td>\n      <td>first_view_ts</td>\n      <td>TIMESTAMP</td>\n      <td>0</td>\n      <td>None</td>\n      <td>0</td>\n    </tr>\n  </tbody>\n</table>\n</div>"
     },
     "execution_count": 31,
     "metadata": {},
     "output_type": "execute_result"
    }
   ],
   "source": [
    "query = \"PRAGMA table_info(test);\"\n",
    "pd.io.sql.read_sql(query, sql_conn)"
   ],
   "metadata": {
    "collapsed": false,
    "pycharm": {
     "name": "#%%\n"
    }
   }
  },
  {
   "cell_type": "code",
   "execution_count": 32,
   "outputs": [
    {
     "data": {
      "text/plain": "   index      uid   labname             first_commit_ts  \\\n0      3  user_17  project1  2020-04-18 07:56:45.408648   \n1      4  user_30    laba04  2020-04-18 13:36:53.971502   \n2      7  user_30   laba04s  2020-04-18 14:51:37.498399   \n3      8  user_14    laba04  2020-04-18 15:14:00.312338   \n4     11  user_14   laba04s  2020-04-18 22:30:30.247628   \n5     18  user_19    laba04  2020-04-20 19:05:01.297780   \n6     19  user_25    laba04  2020-04-20 19:16:50.673054   \n7     20  user_21    laba04  2020-04-21 17:48:00.487806   \n8     21  user_30  project1  2020-04-22 12:36:24.053518   \n9     23  user_21   laba04s  2020-04-22 20:09:21.857747   \n\n                first_view_ts  \n0  2020-04-18 10:56:55.833899  \n1  2020-04-17 22:46:26.785035  \n2  2020-04-17 22:46:26.785035  \n3  2020-04-18 10:53:52.623447  \n4  2020-04-18 10:53:52.623447  \n5  2020-04-21 20:30:38.034966  \n6  2020-05-09 23:54:54.260791  \n7  2020-04-22 22:40:36.824081  \n8  2020-04-17 22:46:26.785035  \n9  2020-04-22 22:40:36.824081  ",
      "text/html": "<div>\n<style scoped>\n    .dataframe tbody tr th:only-of-type {\n        vertical-align: middle;\n    }\n\n    .dataframe tbody tr th {\n        vertical-align: top;\n    }\n\n    .dataframe thead th {\n        text-align: right;\n    }\n</style>\n<table border=\"1\" class=\"dataframe\">\n  <thead>\n    <tr style=\"text-align: right;\">\n      <th></th>\n      <th>index</th>\n      <th>uid</th>\n      <th>labname</th>\n      <th>first_commit_ts</th>\n      <th>first_view_ts</th>\n    </tr>\n  </thead>\n  <tbody>\n    <tr>\n      <th>0</th>\n      <td>3</td>\n      <td>user_17</td>\n      <td>project1</td>\n      <td>2020-04-18 07:56:45.408648</td>\n      <td>2020-04-18 10:56:55.833899</td>\n    </tr>\n    <tr>\n      <th>1</th>\n      <td>4</td>\n      <td>user_30</td>\n      <td>laba04</td>\n      <td>2020-04-18 13:36:53.971502</td>\n      <td>2020-04-17 22:46:26.785035</td>\n    </tr>\n    <tr>\n      <th>2</th>\n      <td>7</td>\n      <td>user_30</td>\n      <td>laba04s</td>\n      <td>2020-04-18 14:51:37.498399</td>\n      <td>2020-04-17 22:46:26.785035</td>\n    </tr>\n    <tr>\n      <th>3</th>\n      <td>8</td>\n      <td>user_14</td>\n      <td>laba04</td>\n      <td>2020-04-18 15:14:00.312338</td>\n      <td>2020-04-18 10:53:52.623447</td>\n    </tr>\n    <tr>\n      <th>4</th>\n      <td>11</td>\n      <td>user_14</td>\n      <td>laba04s</td>\n      <td>2020-04-18 22:30:30.247628</td>\n      <td>2020-04-18 10:53:52.623447</td>\n    </tr>\n    <tr>\n      <th>5</th>\n      <td>18</td>\n      <td>user_19</td>\n      <td>laba04</td>\n      <td>2020-04-20 19:05:01.297780</td>\n      <td>2020-04-21 20:30:38.034966</td>\n    </tr>\n    <tr>\n      <th>6</th>\n      <td>19</td>\n      <td>user_25</td>\n      <td>laba04</td>\n      <td>2020-04-20 19:16:50.673054</td>\n      <td>2020-05-09 23:54:54.260791</td>\n    </tr>\n    <tr>\n      <th>7</th>\n      <td>20</td>\n      <td>user_21</td>\n      <td>laba04</td>\n      <td>2020-04-21 17:48:00.487806</td>\n      <td>2020-04-22 22:40:36.824081</td>\n    </tr>\n    <tr>\n      <th>8</th>\n      <td>21</td>\n      <td>user_30</td>\n      <td>project1</td>\n      <td>2020-04-22 12:36:24.053518</td>\n      <td>2020-04-17 22:46:26.785035</td>\n    </tr>\n    <tr>\n      <th>9</th>\n      <td>23</td>\n      <td>user_21</td>\n      <td>laba04s</td>\n      <td>2020-04-22 20:09:21.857747</td>\n      <td>2020-04-22 22:40:36.824081</td>\n    </tr>\n  </tbody>\n</table>\n</div>"
     },
     "execution_count": 32,
     "metadata": {},
     "output_type": "execute_result"
    }
   ],
   "source": [
    "query = \"SELECT * FROM test LIMIT 10\"\n",
    "pd.io.sql.read_sql(query, sql_conn)"
   ],
   "metadata": {
    "collapsed": false,
    "pycharm": {
     "name": "#%%\n"
    }
   }
  },
  {
   "cell_type": "code",
   "execution_count": 33,
   "outputs": [
    {
     "data": {
      "text/plain": "       uid  diff\n0  user_30  -202",
      "text/html": "<div>\n<style scoped>\n    .dataframe tbody tr th:only-of-type {\n        vertical-align: middle;\n    }\n\n    .dataframe tbody tr th {\n        vertical-align: top;\n    }\n\n    .dataframe thead th {\n        text-align: right;\n    }\n</style>\n<table border=\"1\" class=\"dataframe\">\n  <thead>\n    <tr style=\"text-align: right;\">\n      <th></th>\n      <th>uid</th>\n      <th>diff</th>\n    </tr>\n  </thead>\n  <tbody>\n    <tr>\n      <th>0</th>\n      <td>user_30</td>\n      <td>-202</td>\n    </tr>\n  </tbody>\n</table>\n</div>"
     },
     "execution_count": 33,
     "metadata": {},
     "output_type": "execute_result"
    }
   ],
   "source": [
    "query = \"\"\"\n",
    "SELECT\n",
    "    t.uid,\n",
    "    MIN(CAST((JulianDay(t.first_commit_ts) - (JulianDay(d.deadlines, 'unixepoch')))* 24 AS INTEGER)) AS diff\n",
    "FROM test t\n",
    "JOIN deadlines d\n",
    "    ON t.labname = d.labs\n",
    "WHERE\n",
    "    labname <> 'project1'\n",
    "\"\"\"\n",
    "df_min = pd.io.sql.read_sql(query, sql_conn)\n",
    "df_min"
   ],
   "metadata": {
    "collapsed": false,
    "pycharm": {
     "name": "#%%\n"
    }
   }
  },
  {
   "cell_type": "code",
   "execution_count": 34,
   "outputs": [
    {
     "data": {
      "text/plain": "       uid  diff\n0  user_25    -2",
      "text/html": "<div>\n<style scoped>\n    .dataframe tbody tr th:only-of-type {\n        vertical-align: middle;\n    }\n\n    .dataframe tbody tr th {\n        vertical-align: top;\n    }\n\n    .dataframe thead th {\n        text-align: right;\n    }\n</style>\n<table border=\"1\" class=\"dataframe\">\n  <thead>\n    <tr style=\"text-align: right;\">\n      <th></th>\n      <th>uid</th>\n      <th>diff</th>\n    </tr>\n  </thead>\n  <tbody>\n    <tr>\n      <th>0</th>\n      <td>user_25</td>\n      <td>-2</td>\n    </tr>\n  </tbody>\n</table>\n</div>"
     },
     "execution_count": 34,
     "metadata": {},
     "output_type": "execute_result"
    }
   ],
   "source": [
    "query = \"\"\"\n",
    "SELECT\n",
    "    t.uid,\n",
    "    MAX(CAST((JulianDay(t.first_commit_ts) - (JulianDay(d.deadlines, 'unixepoch'))) * 24 AS INTEGER)) AS diff\n",
    "FROM test t\n",
    "JOIN deadlines d\n",
    "    ON t.labname = d.labs\n",
    "WHERE\n",
    "    labname <> 'project1'\n",
    "\"\"\"\n",
    "df_max = pd.io.sql.read_sql(query, sql_conn)\n",
    "df_max"
   ],
   "metadata": {
    "collapsed": false,
    "pycharm": {
     "name": "#%%\n"
    }
   }
  },
  {
   "cell_type": "code",
   "execution_count": 35,
   "outputs": [
    {
     "data": {
      "text/plain": "     diff\n0 -89.125",
      "text/html": "<div>\n<style scoped>\n    .dataframe tbody tr th:only-of-type {\n        vertical-align: middle;\n    }\n\n    .dataframe tbody tr th {\n        vertical-align: top;\n    }\n\n    .dataframe thead th {\n        text-align: right;\n    }\n</style>\n<table border=\"1\" class=\"dataframe\">\n  <thead>\n    <tr style=\"text-align: right;\">\n      <th></th>\n      <th>diff</th>\n    </tr>\n  </thead>\n  <tbody>\n    <tr>\n      <th>0</th>\n      <td>-89.125</td>\n    </tr>\n  </tbody>\n</table>\n</div>"
     },
     "execution_count": 35,
     "metadata": {},
     "output_type": "execute_result"
    }
   ],
   "source": [
    "query = \"\"\"\n",
    "SELECT\n",
    "    AVG(CAST((JulianDay(t.first_commit_ts) - (JulianDay(d.deadlines, 'unixepoch')))* 24 AS INTEGER)) AS diff\n",
    "FROM test t\n",
    "JOIN deadlines d\n",
    "    ON t.labname = d.labs\n",
    "WHERE\n",
    "    labname <> 'project1'\n",
    "\"\"\"\n",
    "df_avg = pd.io.sql.read_sql(query, sql_conn)\n",
    "df_avg"
   ],
   "metadata": {
    "collapsed": false,
    "pycharm": {
     "name": "#%%\n"
    }
   }
  },
  {
   "cell_type": "code",
   "execution_count": 36,
   "outputs": [
    {
     "data": {
      "text/plain": "     index      uid                    datetime\n0       12  user_30  2020-04-17 22:46:26.785035\n1       14  user_14  2020-04-18 10:53:52.623447\n2       15  user_17  2020-04-18 10:56:55.833899\n3       16  user_14  2020-04-18 10:57:37.331258\n4       18  user_17  2020-04-18 12:05:48.200144\n..     ...      ...                         ...\n982   1073  user_28  2020-05-21 18:45:20.441142\n983   1074  user_19  2020-05-21 23:03:06.457819\n984   1075  user_25  2020-05-21 23:23:49.995349\n985   1078   user_5  2020-05-22 11:30:18.368990\n986   1079  user_17  2020-05-22 18:22:22.847815\n\n[987 rows x 3 columns]",
      "text/html": "<div>\n<style scoped>\n    .dataframe tbody tr th:only-of-type {\n        vertical-align: middle;\n    }\n\n    .dataframe tbody tr th {\n        vertical-align: top;\n    }\n\n    .dataframe thead th {\n        text-align: right;\n    }\n</style>\n<table border=\"1\" class=\"dataframe\">\n  <thead>\n    <tr style=\"text-align: right;\">\n      <th></th>\n      <th>index</th>\n      <th>uid</th>\n      <th>datetime</th>\n    </tr>\n  </thead>\n  <tbody>\n    <tr>\n      <th>0</th>\n      <td>12</td>\n      <td>user_30</td>\n      <td>2020-04-17 22:46:26.785035</td>\n    </tr>\n    <tr>\n      <th>1</th>\n      <td>14</td>\n      <td>user_14</td>\n      <td>2020-04-18 10:53:52.623447</td>\n    </tr>\n    <tr>\n      <th>2</th>\n      <td>15</td>\n      <td>user_17</td>\n      <td>2020-04-18 10:56:55.833899</td>\n    </tr>\n    <tr>\n      <th>3</th>\n      <td>16</td>\n      <td>user_14</td>\n      <td>2020-04-18 10:57:37.331258</td>\n    </tr>\n    <tr>\n      <th>4</th>\n      <td>18</td>\n      <td>user_17</td>\n      <td>2020-04-18 12:05:48.200144</td>\n    </tr>\n    <tr>\n      <th>...</th>\n      <td>...</td>\n      <td>...</td>\n      <td>...</td>\n    </tr>\n    <tr>\n      <th>982</th>\n      <td>1073</td>\n      <td>user_28</td>\n      <td>2020-05-21 18:45:20.441142</td>\n    </tr>\n    <tr>\n      <th>983</th>\n      <td>1074</td>\n      <td>user_19</td>\n      <td>2020-05-21 23:03:06.457819</td>\n    </tr>\n    <tr>\n      <th>984</th>\n      <td>1075</td>\n      <td>user_25</td>\n      <td>2020-05-21 23:23:49.995349</td>\n    </tr>\n    <tr>\n      <th>985</th>\n      <td>1078</td>\n      <td>user_5</td>\n      <td>2020-05-22 11:30:18.368990</td>\n    </tr>\n    <tr>\n      <th>986</th>\n      <td>1079</td>\n      <td>user_17</td>\n      <td>2020-05-22 18:22:22.847815</td>\n    </tr>\n  </tbody>\n</table>\n<p>987 rows × 3 columns</p>\n</div>"
     },
     "execution_count": 36,
     "metadata": {},
     "output_type": "execute_result"
    }
   ],
   "source": [
    "query = 'SELECT  * FROM pageviews WHERE uid LIKE \"user%\"'\n",
    "pd.io.sql.read_sql(query, sql_conn)"
   ],
   "metadata": {
    "collapsed": false,
    "pycharm": {
     "name": "#%%\n"
    }
   }
  },
  {
   "cell_type": "code",
   "execution_count": 37,
   "outputs": [
    {
     "data": {
      "text/plain": "            avg_dif  pageviews\navg_dif    1.000000  -0.069302\npageviews -0.069302   1.000000",
      "text/html": "<div>\n<style scoped>\n    .dataframe tbody tr th:only-of-type {\n        vertical-align: middle;\n    }\n\n    .dataframe tbody tr th {\n        vertical-align: top;\n    }\n\n    .dataframe thead th {\n        text-align: right;\n    }\n</style>\n<table border=\"1\" class=\"dataframe\">\n  <thead>\n    <tr style=\"text-align: right;\">\n      <th></th>\n      <th>avg_dif</th>\n      <th>pageviews</th>\n    </tr>\n  </thead>\n  <tbody>\n    <tr>\n      <th>avg_dif</th>\n      <td>1.000000</td>\n      <td>-0.069302</td>\n    </tr>\n    <tr>\n      <th>pageviews</th>\n      <td>-0.069302</td>\n      <td>1.000000</td>\n    </tr>\n  </tbody>\n</table>\n</div>"
     },
     "execution_count": 37,
     "metadata": {},
     "output_type": "execute_result"
    }
   ],
   "source": [
    "query = \"\"\"\n",
    "WITH tmp AS (SELECT\n",
    "    test.uid,\n",
    "    AVG(CAST((JulianDay(test.first_commit_ts) - (JulianDay(deadlines.deadlines, 'unixepoch'))) * 24 AS INTEGER)) AS avg_dif\n",
    "FROM test\n",
    "JOIN deadlines\n",
    "    ON deadlines.labs = test.labname\n",
    "GROUP BY test.uid)\n",
    "SELECT tmp.uid AS uid,\n",
    "    tmp.avg_dif,\n",
    "    COUNT(pageviews.datetime) AS pageviews\n",
    "FROM tmp\n",
    "INNER JOIN pageviews\n",
    "    ON tmp.uid = pageviews.uid\n",
    "GROUP BY tmp.uid\n",
    "\"\"\"\n",
    "views_df = pd.io.sql.read_sql(query, sql_conn)\n",
    "views_df.corr()"
   ],
   "metadata": {
    "collapsed": false,
    "pycharm": {
     "name": "#%%\n"
    }
   }
  },
  {
   "cell_type": "code",
   "execution_count": 25,
   "outputs": [],
   "source": [
    "sql_conn.close()"
   ],
   "metadata": {
    "collapsed": false,
    "pycharm": {
     "name": "#%%\n"
    }
   }
  }
 ],
 "metadata": {
  "kernelspec": {
   "display_name": "Python 3",
   "language": "python",
   "name": "python3"
  },
  "language_info": {
   "codemirror_mode": {
    "name": "ipython",
    "version": 2
   },
   "file_extension": ".py",
   "mimetype": "text/x-python",
   "name": "python",
   "nbconvert_exporter": "python",
   "pygments_lexer": "ipython2",
   "version": "2.7.6"
  }
 },
 "nbformat": 4,
 "nbformat_minor": 0
}