{
 "cells": [
  {
   "cell_type": "code",
   "execution_count": 73,
   "metadata": {
    "collapsed": true
   },
   "outputs": [],
   "source": [
    "import pandas as pd\n",
    "import sqlite3"
   ]
  },
  {
   "cell_type": "code",
   "execution_count": 84,
   "outputs": [],
   "source": [
    "sql_conn = sqlite3.connect('../data/checking-logs.sqlite')"
   ],
   "metadata": {
    "collapsed": false,
    "pycharm": {
     "name": "#%%\n"
    }
   }
  },
  {
   "cell_type": "code",
   "execution_count": 85,
   "outputs": [
    {
     "data": {
      "text/plain": "   index    status  success                   timestamp  numTrials   labname  \\\n0      0  checking        0  2020-04-16 21:12:50.740474          5      None   \n1      1     ready        0  2020-04-16 21:12:54.708365          5  code_rvw   \n2      2  checking        0  2020-04-16 21:46:47.769088          7      None   \n3      3     ready        0  2020-04-16 21:46:48.121217          7     lab02   \n4      4  checking        0  2020-04-16 21:53:01.862637          6  code_rvw   \n5      5     ready        0  2020-04-16 21:53:05.373389          6  code_rvw   \n6      6  checking        0  2020-04-17 05:18:51.965864          1      None   \n7      7     ready        0  2020-04-17 05:19:02.744528          1  project1   \n8      8  checking        0  2020-04-17 05:22:35.249331          2  project1   \n9      9     ready        1  2020-04-17 05:22:45.549397          2  project1   \n\n       uid  \n0  admin_1  \n1  admin_1  \n2  admin_1  \n3  admin_1  \n4  admin_1  \n5  admin_1  \n6     None  \n7   user_4  \n8   user_4  \n9   user_4  ",
      "text/html": "<div>\n<style scoped>\n    .dataframe tbody tr th:only-of-type {\n        vertical-align: middle;\n    }\n\n    .dataframe tbody tr th {\n        vertical-align: top;\n    }\n\n    .dataframe thead th {\n        text-align: right;\n    }\n</style>\n<table border=\"1\" class=\"dataframe\">\n  <thead>\n    <tr style=\"text-align: right;\">\n      <th></th>\n      <th>index</th>\n      <th>status</th>\n      <th>success</th>\n      <th>timestamp</th>\n      <th>numTrials</th>\n      <th>labname</th>\n      <th>uid</th>\n    </tr>\n  </thead>\n  <tbody>\n    <tr>\n      <th>0</th>\n      <td>0</td>\n      <td>checking</td>\n      <td>0</td>\n      <td>2020-04-16 21:12:50.740474</td>\n      <td>5</td>\n      <td>None</td>\n      <td>admin_1</td>\n    </tr>\n    <tr>\n      <th>1</th>\n      <td>1</td>\n      <td>ready</td>\n      <td>0</td>\n      <td>2020-04-16 21:12:54.708365</td>\n      <td>5</td>\n      <td>code_rvw</td>\n      <td>admin_1</td>\n    </tr>\n    <tr>\n      <th>2</th>\n      <td>2</td>\n      <td>checking</td>\n      <td>0</td>\n      <td>2020-04-16 21:46:47.769088</td>\n      <td>7</td>\n      <td>None</td>\n      <td>admin_1</td>\n    </tr>\n    <tr>\n      <th>3</th>\n      <td>3</td>\n      <td>ready</td>\n      <td>0</td>\n      <td>2020-04-16 21:46:48.121217</td>\n      <td>7</td>\n      <td>lab02</td>\n      <td>admin_1</td>\n    </tr>\n    <tr>\n      <th>4</th>\n      <td>4</td>\n      <td>checking</td>\n      <td>0</td>\n      <td>2020-04-16 21:53:01.862637</td>\n      <td>6</td>\n      <td>code_rvw</td>\n      <td>admin_1</td>\n    </tr>\n    <tr>\n      <th>5</th>\n      <td>5</td>\n      <td>ready</td>\n      <td>0</td>\n      <td>2020-04-16 21:53:05.373389</td>\n      <td>6</td>\n      <td>code_rvw</td>\n      <td>admin_1</td>\n    </tr>\n    <tr>\n      <th>6</th>\n      <td>6</td>\n      <td>checking</td>\n      <td>0</td>\n      <td>2020-04-17 05:18:51.965864</td>\n      <td>1</td>\n      <td>None</td>\n      <td>None</td>\n    </tr>\n    <tr>\n      <th>7</th>\n      <td>7</td>\n      <td>ready</td>\n      <td>0</td>\n      <td>2020-04-17 05:19:02.744528</td>\n      <td>1</td>\n      <td>project1</td>\n      <td>user_4</td>\n    </tr>\n    <tr>\n      <th>8</th>\n      <td>8</td>\n      <td>checking</td>\n      <td>0</td>\n      <td>2020-04-17 05:22:35.249331</td>\n      <td>2</td>\n      <td>project1</td>\n      <td>user_4</td>\n    </tr>\n    <tr>\n      <th>9</th>\n      <td>9</td>\n      <td>ready</td>\n      <td>1</td>\n      <td>2020-04-17 05:22:45.549397</td>\n      <td>2</td>\n      <td>project1</td>\n      <td>user_4</td>\n    </tr>\n  </tbody>\n</table>\n</div>"
     },
     "execution_count": 85,
     "metadata": {},
     "output_type": "execute_result"
    }
   ],
   "source": [
    "query = \"SELECT * FROM checker LIMIT 10\"\n",
    "pd.io.sql.read_sql(query, sql_conn)"
   ],
   "metadata": {
    "collapsed": false,
    "pycharm": {
     "name": "#%%\n"
    }
   }
  },
  {
   "cell_type": "code",
   "execution_count": 86,
   "outputs": [
    {
     "data": {
      "text/plain": "   index      uid                    datetime\n0      0  admin_1  2020-04-17 12:01:08.463179\n1      1  admin_1  2020-04-17 12:01:23.743946\n2      2  admin_3  2020-04-17 12:17:39.287778\n3      3  admin_3  2020-04-17 12:17:40.001768\n4      4  admin_1  2020-04-17 12:27:30.646665\n5      5  admin_1  2020-04-17 12:35:44.884757\n6      6  admin_1  2020-04-17 12:35:52.735016\n7      7  admin_3  2020-04-17 12:36:21.401412\n8      8  admin_3  2020-04-17 12:36:22.023355\n9      9  admin_1  2020-04-17 13:55:19.129243",
      "text/html": "<div>\n<style scoped>\n    .dataframe tbody tr th:only-of-type {\n        vertical-align: middle;\n    }\n\n    .dataframe tbody tr th {\n        vertical-align: top;\n    }\n\n    .dataframe thead th {\n        text-align: right;\n    }\n</style>\n<table border=\"1\" class=\"dataframe\">\n  <thead>\n    <tr style=\"text-align: right;\">\n      <th></th>\n      <th>index</th>\n      <th>uid</th>\n      <th>datetime</th>\n    </tr>\n  </thead>\n  <tbody>\n    <tr>\n      <th>0</th>\n      <td>0</td>\n      <td>admin_1</td>\n      <td>2020-04-17 12:01:08.463179</td>\n    </tr>\n    <tr>\n      <th>1</th>\n      <td>1</td>\n      <td>admin_1</td>\n      <td>2020-04-17 12:01:23.743946</td>\n    </tr>\n    <tr>\n      <th>2</th>\n      <td>2</td>\n      <td>admin_3</td>\n      <td>2020-04-17 12:17:39.287778</td>\n    </tr>\n    <tr>\n      <th>3</th>\n      <td>3</td>\n      <td>admin_3</td>\n      <td>2020-04-17 12:17:40.001768</td>\n    </tr>\n    <tr>\n      <th>4</th>\n      <td>4</td>\n      <td>admin_1</td>\n      <td>2020-04-17 12:27:30.646665</td>\n    </tr>\n    <tr>\n      <th>5</th>\n      <td>5</td>\n      <td>admin_1</td>\n      <td>2020-04-17 12:35:44.884757</td>\n    </tr>\n    <tr>\n      <th>6</th>\n      <td>6</td>\n      <td>admin_1</td>\n      <td>2020-04-17 12:35:52.735016</td>\n    </tr>\n    <tr>\n      <th>7</th>\n      <td>7</td>\n      <td>admin_3</td>\n      <td>2020-04-17 12:36:21.401412</td>\n    </tr>\n    <tr>\n      <th>8</th>\n      <td>8</td>\n      <td>admin_3</td>\n      <td>2020-04-17 12:36:22.023355</td>\n    </tr>\n    <tr>\n      <th>9</th>\n      <td>9</td>\n      <td>admin_1</td>\n      <td>2020-04-17 13:55:19.129243</td>\n    </tr>\n  </tbody>\n</table>\n</div>"
     },
     "execution_count": 86,
     "metadata": {},
     "output_type": "execute_result"
    }
   ],
   "source": [
    "query = \"SELECT * FROM pageviews LIMIT 10\"\n",
    "pd.io.sql.read_sql(query, sql_conn)"
   ],
   "metadata": {
    "collapsed": false,
    "pycharm": {
     "name": "#%%\n"
    }
   }
  },
  {
   "cell_type": "code",
   "execution_count": 87,
   "outputs": [
    {
     "data": {
      "text/plain": "        uid   labname            first_commit_ts              first_view_ts\n0   user_17  project1 2020-04-18 07:56:45.408648 2020-04-18 10:56:55.833899\n1   user_30    laba04 2020-04-18 13:36:53.971502 2020-04-17 22:46:26.785035\n2   user_30   laba04s 2020-04-18 14:51:37.498399 2020-04-17 22:46:26.785035\n3   user_14    laba04 2020-04-18 15:14:00.312338 2020-04-18 10:53:52.623447\n4   user_14   laba04s 2020-04-18 22:30:30.247628 2020-04-18 10:53:52.623447\n5   user_19    laba04 2020-04-20 19:05:01.297780 2020-04-21 20:30:38.034966\n6   user_25    laba04 2020-04-20 19:16:50.673054 2020-05-09 23:54:54.260791\n7   user_21    laba04 2020-04-21 17:48:00.487806 2020-04-22 22:40:36.824081\n8   user_30  project1 2020-04-22 12:36:24.053518 2020-04-17 22:46:26.785035\n9   user_21   laba04s 2020-04-22 20:09:21.857747 2020-04-22 22:40:36.824081\n10  user_28    laba04 2020-04-22 21:47:19.707242 2020-05-10 21:07:50.350946\n11  user_17    laba04 2020-04-23 14:24:29.947554 2020-04-18 10:56:55.833899\n12   user_3    laba04 2020-04-23 20:29:14.054364 2020-05-08 10:53:47.123832\n13   user_3   laba04s 2020-04-23 20:40:26.883591 2020-05-08 10:53:47.123832\n14  user_10    laba04 2020-04-25 08:24:52.696624 2020-04-18 12:19:50.182714\n15  user_10   laba04s 2020-04-25 08:37:54.604222 2020-04-18 12:19:50.182714\n16  user_17   laba04s 2020-04-25 12:10:56.414175 2020-04-18 10:56:55.833899\n17  user_28   laba04s 2020-04-26 15:53:44.906136 2020-05-10 21:07:50.350946\n18   user_1    laba04 2020-04-26 17:06:18.462708 2020-04-26 21:53:59.624136\n19   user_1   laba04s 2020-04-26 17:12:11.843671 2020-04-26 21:53:59.624136\n20  user_18    laba04 2020-04-26 19:48:11.822365 2020-04-26 22:49:29.243278\n21  user_18   laba04s 2020-04-26 20:03:56.935458 2020-04-26 22:49:29.243278\n22  user_25   laba04s 2020-04-26 21:07:56.952117 2020-05-09 23:54:54.260791\n23  user_14    laba05 2020-04-30 11:33:04.523118 2020-04-18 10:53:52.623447\n24   user_3    laba05 2020-05-01 11:29:17.988118 2020-05-08 10:53:47.123832\n25  user_25    laba05 2020-05-01 13:02:27.357650 2020-05-09 23:54:54.260791\n26  user_28    laba05 2020-05-01 18:29:11.968537 2020-05-10 21:07:50.350946\n27  user_10    laba05 2020-05-01 19:27:26.063245 2020-04-18 12:19:50.182714\n28  user_30    laba05 2020-05-01 19:31:18.375833 2020-04-17 22:46:26.785035\n29  user_17    laba05 2020-05-02 13:21:24.045876 2020-04-18 10:56:55.833899\n30  user_21    laba05 2020-05-02 14:05:40.013959 2020-04-22 22:40:36.824081\n31  user_19    laba05 2020-05-02 15:16:13.586405 2020-04-21 20:30:38.034966\n32   user_1    laba05 2020-05-02 19:15:18.540185 2020-04-26 21:53:59.624136\n33  user_18    laba05 2020-05-03 13:01:34.848756 2020-04-26 22:49:29.243278\n34  user_14  project1 2020-05-05 21:35:43.554986 2020-04-18 10:53:52.623447\n35   user_3  project1 2020-05-07 21:02:52.885133 2020-05-08 10:53:47.123832\n36  user_25  project1 2020-05-08 11:10:28.100852 2020-05-09 23:54:54.260791\n37  user_21  project1 2020-05-10 15:21:05.442755 2020-04-22 22:40:36.824081\n38  user_18  project1 2020-05-11 10:10:04.166881 2020-04-26 22:49:29.243278\n39  user_28  project1 2020-05-12 14:42:19.166414 2020-05-10 21:07:50.350946\n40  user_10  project1 2020-05-12 20:12:28.056618 2020-04-18 12:19:50.182714\n41  user_19  project1 2020-05-14 10:33:45.495389 2020-04-21 20:30:38.034966\n42   user_1  project1 2020-05-14 20:56:08.898880 2020-04-26 21:53:59.624136\n43   user_3    laba06 2020-05-17 09:56:40.480319 2020-05-08 10:53:47.123832\n44   user_1    laba06 2020-05-17 16:26:35.268534 2020-04-26 21:53:59.624136\n45  user_28    laba06 2020-05-17 17:08:48.257050 2020-05-10 21:07:50.350946\n46  user_25    laba06 2020-05-18 17:07:47.988807 2020-05-09 23:54:54.260791\n47   user_3   laba06s 2020-05-19 08:42:50.851878 2020-05-08 10:53:47.123832\n48  user_19    laba06 2020-05-19 10:25:54.121465 2020-04-21 20:30:38.034966\n49  user_10    laba06 2020-05-19 11:39:28.885637 2020-04-18 12:19:50.182714\n50  user_30    laba06 2020-05-19 17:53:15.088248 2020-04-17 22:46:26.785035\n51  user_21    laba06 2020-05-19 19:30:14.644328 2020-04-22 22:40:36.824081\n52  user_10   laba06s 2020-05-20 07:37:31.175817 2020-04-18 12:19:50.182714\n53   user_1   laba06s 2020-05-20 12:23:37.289724 2020-04-26 21:53:59.624136\n54  user_25   laba06s 2020-05-20 14:02:26.512032 2020-05-09 23:54:54.260791\n55  user_28   laba06s 2020-05-20 20:42:44.423160 2020-05-10 21:07:50.350946\n56  user_19   laba06s 2020-05-21 13:27:06.705881 2020-04-21 20:30:38.034966\n57  user_17    laba06 2020-05-21 15:21:31.567615 2020-04-18 10:56:55.833899\n58  user_17   laba06s 2020-05-21 17:39:17.783615 2020-04-18 10:56:55.833899",
      "text/html": "<div>\n<style scoped>\n    .dataframe tbody tr th:only-of-type {\n        vertical-align: middle;\n    }\n\n    .dataframe tbody tr th {\n        vertical-align: top;\n    }\n\n    .dataframe thead th {\n        text-align: right;\n    }\n</style>\n<table border=\"1\" class=\"dataframe\">\n  <thead>\n    <tr style=\"text-align: right;\">\n      <th></th>\n      <th>uid</th>\n      <th>labname</th>\n      <th>first_commit_ts</th>\n      <th>first_view_ts</th>\n    </tr>\n  </thead>\n  <tbody>\n    <tr>\n      <th>0</th>\n      <td>user_17</td>\n      <td>project1</td>\n      <td>2020-04-18 07:56:45.408648</td>\n      <td>2020-04-18 10:56:55.833899</td>\n    </tr>\n    <tr>\n      <th>1</th>\n      <td>user_30</td>\n      <td>laba04</td>\n      <td>2020-04-18 13:36:53.971502</td>\n      <td>2020-04-17 22:46:26.785035</td>\n    </tr>\n    <tr>\n      <th>2</th>\n      <td>user_30</td>\n      <td>laba04s</td>\n      <td>2020-04-18 14:51:37.498399</td>\n      <td>2020-04-17 22:46:26.785035</td>\n    </tr>\n    <tr>\n      <th>3</th>\n      <td>user_14</td>\n      <td>laba04</td>\n      <td>2020-04-18 15:14:00.312338</td>\n      <td>2020-04-18 10:53:52.623447</td>\n    </tr>\n    <tr>\n      <th>4</th>\n      <td>user_14</td>\n      <td>laba04s</td>\n      <td>2020-04-18 22:30:30.247628</td>\n      <td>2020-04-18 10:53:52.623447</td>\n    </tr>\n    <tr>\n      <th>5</th>\n      <td>user_19</td>\n      <td>laba04</td>\n      <td>2020-04-20 19:05:01.297780</td>\n      <td>2020-04-21 20:30:38.034966</td>\n    </tr>\n    <tr>\n      <th>6</th>\n      <td>user_25</td>\n      <td>laba04</td>\n      <td>2020-04-20 19:16:50.673054</td>\n      <td>2020-05-09 23:54:54.260791</td>\n    </tr>\n    <tr>\n      <th>7</th>\n      <td>user_21</td>\n      <td>laba04</td>\n      <td>2020-04-21 17:48:00.487806</td>\n      <td>2020-04-22 22:40:36.824081</td>\n    </tr>\n    <tr>\n      <th>8</th>\n      <td>user_30</td>\n      <td>project1</td>\n      <td>2020-04-22 12:36:24.053518</td>\n      <td>2020-04-17 22:46:26.785035</td>\n    </tr>\n    <tr>\n      <th>9</th>\n      <td>user_21</td>\n      <td>laba04s</td>\n      <td>2020-04-22 20:09:21.857747</td>\n      <td>2020-04-22 22:40:36.824081</td>\n    </tr>\n    <tr>\n      <th>10</th>\n      <td>user_28</td>\n      <td>laba04</td>\n      <td>2020-04-22 21:47:19.707242</td>\n      <td>2020-05-10 21:07:50.350946</td>\n    </tr>\n    <tr>\n      <th>11</th>\n      <td>user_17</td>\n      <td>laba04</td>\n      <td>2020-04-23 14:24:29.947554</td>\n      <td>2020-04-18 10:56:55.833899</td>\n    </tr>\n    <tr>\n      <th>12</th>\n      <td>user_3</td>\n      <td>laba04</td>\n      <td>2020-04-23 20:29:14.054364</td>\n      <td>2020-05-08 10:53:47.123832</td>\n    </tr>\n    <tr>\n      <th>13</th>\n      <td>user_3</td>\n      <td>laba04s</td>\n      <td>2020-04-23 20:40:26.883591</td>\n      <td>2020-05-08 10:53:47.123832</td>\n    </tr>\n    <tr>\n      <th>14</th>\n      <td>user_10</td>\n      <td>laba04</td>\n      <td>2020-04-25 08:24:52.696624</td>\n      <td>2020-04-18 12:19:50.182714</td>\n    </tr>\n    <tr>\n      <th>15</th>\n      <td>user_10</td>\n      <td>laba04s</td>\n      <td>2020-04-25 08:37:54.604222</td>\n      <td>2020-04-18 12:19:50.182714</td>\n    </tr>\n    <tr>\n      <th>16</th>\n      <td>user_17</td>\n      <td>laba04s</td>\n      <td>2020-04-25 12:10:56.414175</td>\n      <td>2020-04-18 10:56:55.833899</td>\n    </tr>\n    <tr>\n      <th>17</th>\n      <td>user_28</td>\n      <td>laba04s</td>\n      <td>2020-04-26 15:53:44.906136</td>\n      <td>2020-05-10 21:07:50.350946</td>\n    </tr>\n    <tr>\n      <th>18</th>\n      <td>user_1</td>\n      <td>laba04</td>\n      <td>2020-04-26 17:06:18.462708</td>\n      <td>2020-04-26 21:53:59.624136</td>\n    </tr>\n    <tr>\n      <th>19</th>\n      <td>user_1</td>\n      <td>laba04s</td>\n      <td>2020-04-26 17:12:11.843671</td>\n      <td>2020-04-26 21:53:59.624136</td>\n    </tr>\n    <tr>\n      <th>20</th>\n      <td>user_18</td>\n      <td>laba04</td>\n      <td>2020-04-26 19:48:11.822365</td>\n      <td>2020-04-26 22:49:29.243278</td>\n    </tr>\n    <tr>\n      <th>21</th>\n      <td>user_18</td>\n      <td>laba04s</td>\n      <td>2020-04-26 20:03:56.935458</td>\n      <td>2020-04-26 22:49:29.243278</td>\n    </tr>\n    <tr>\n      <th>22</th>\n      <td>user_25</td>\n      <td>laba04s</td>\n      <td>2020-04-26 21:07:56.952117</td>\n      <td>2020-05-09 23:54:54.260791</td>\n    </tr>\n    <tr>\n      <th>23</th>\n      <td>user_14</td>\n      <td>laba05</td>\n      <td>2020-04-30 11:33:04.523118</td>\n      <td>2020-04-18 10:53:52.623447</td>\n    </tr>\n    <tr>\n      <th>24</th>\n      <td>user_3</td>\n      <td>laba05</td>\n      <td>2020-05-01 11:29:17.988118</td>\n      <td>2020-05-08 10:53:47.123832</td>\n    </tr>\n    <tr>\n      <th>25</th>\n      <td>user_25</td>\n      <td>laba05</td>\n      <td>2020-05-01 13:02:27.357650</td>\n      <td>2020-05-09 23:54:54.260791</td>\n    </tr>\n    <tr>\n      <th>26</th>\n      <td>user_28</td>\n      <td>laba05</td>\n      <td>2020-05-01 18:29:11.968537</td>\n      <td>2020-05-10 21:07:50.350946</td>\n    </tr>\n    <tr>\n      <th>27</th>\n      <td>user_10</td>\n      <td>laba05</td>\n      <td>2020-05-01 19:27:26.063245</td>\n      <td>2020-04-18 12:19:50.182714</td>\n    </tr>\n    <tr>\n      <th>28</th>\n      <td>user_30</td>\n      <td>laba05</td>\n      <td>2020-05-01 19:31:18.375833</td>\n      <td>2020-04-17 22:46:26.785035</td>\n    </tr>\n    <tr>\n      <th>29</th>\n      <td>user_17</td>\n      <td>laba05</td>\n      <td>2020-05-02 13:21:24.045876</td>\n      <td>2020-04-18 10:56:55.833899</td>\n    </tr>\n    <tr>\n      <th>30</th>\n      <td>user_21</td>\n      <td>laba05</td>\n      <td>2020-05-02 14:05:40.013959</td>\n      <td>2020-04-22 22:40:36.824081</td>\n    </tr>\n    <tr>\n      <th>31</th>\n      <td>user_19</td>\n      <td>laba05</td>\n      <td>2020-05-02 15:16:13.586405</td>\n      <td>2020-04-21 20:30:38.034966</td>\n    </tr>\n    <tr>\n      <th>32</th>\n      <td>user_1</td>\n      <td>laba05</td>\n      <td>2020-05-02 19:15:18.540185</td>\n      <td>2020-04-26 21:53:59.624136</td>\n    </tr>\n    <tr>\n      <th>33</th>\n      <td>user_18</td>\n      <td>laba05</td>\n      <td>2020-05-03 13:01:34.848756</td>\n      <td>2020-04-26 22:49:29.243278</td>\n    </tr>\n    <tr>\n      <th>34</th>\n      <td>user_14</td>\n      <td>project1</td>\n      <td>2020-05-05 21:35:43.554986</td>\n      <td>2020-04-18 10:53:52.623447</td>\n    </tr>\n    <tr>\n      <th>35</th>\n      <td>user_3</td>\n      <td>project1</td>\n      <td>2020-05-07 21:02:52.885133</td>\n      <td>2020-05-08 10:53:47.123832</td>\n    </tr>\n    <tr>\n      <th>36</th>\n      <td>user_25</td>\n      <td>project1</td>\n      <td>2020-05-08 11:10:28.100852</td>\n      <td>2020-05-09 23:54:54.260791</td>\n    </tr>\n    <tr>\n      <th>37</th>\n      <td>user_21</td>\n      <td>project1</td>\n      <td>2020-05-10 15:21:05.442755</td>\n      <td>2020-04-22 22:40:36.824081</td>\n    </tr>\n    <tr>\n      <th>38</th>\n      <td>user_18</td>\n      <td>project1</td>\n      <td>2020-05-11 10:10:04.166881</td>\n      <td>2020-04-26 22:49:29.243278</td>\n    </tr>\n    <tr>\n      <th>39</th>\n      <td>user_28</td>\n      <td>project1</td>\n      <td>2020-05-12 14:42:19.166414</td>\n      <td>2020-05-10 21:07:50.350946</td>\n    </tr>\n    <tr>\n      <th>40</th>\n      <td>user_10</td>\n      <td>project1</td>\n      <td>2020-05-12 20:12:28.056618</td>\n      <td>2020-04-18 12:19:50.182714</td>\n    </tr>\n    <tr>\n      <th>41</th>\n      <td>user_19</td>\n      <td>project1</td>\n      <td>2020-05-14 10:33:45.495389</td>\n      <td>2020-04-21 20:30:38.034966</td>\n    </tr>\n    <tr>\n      <th>42</th>\n      <td>user_1</td>\n      <td>project1</td>\n      <td>2020-05-14 20:56:08.898880</td>\n      <td>2020-04-26 21:53:59.624136</td>\n    </tr>\n    <tr>\n      <th>43</th>\n      <td>user_3</td>\n      <td>laba06</td>\n      <td>2020-05-17 09:56:40.480319</td>\n      <td>2020-05-08 10:53:47.123832</td>\n    </tr>\n    <tr>\n      <th>44</th>\n      <td>user_1</td>\n      <td>laba06</td>\n      <td>2020-05-17 16:26:35.268534</td>\n      <td>2020-04-26 21:53:59.624136</td>\n    </tr>\n    <tr>\n      <th>45</th>\n      <td>user_28</td>\n      <td>laba06</td>\n      <td>2020-05-17 17:08:48.257050</td>\n      <td>2020-05-10 21:07:50.350946</td>\n    </tr>\n    <tr>\n      <th>46</th>\n      <td>user_25</td>\n      <td>laba06</td>\n      <td>2020-05-18 17:07:47.988807</td>\n      <td>2020-05-09 23:54:54.260791</td>\n    </tr>\n    <tr>\n      <th>47</th>\n      <td>user_3</td>\n      <td>laba06s</td>\n      <td>2020-05-19 08:42:50.851878</td>\n      <td>2020-05-08 10:53:47.123832</td>\n    </tr>\n    <tr>\n      <th>48</th>\n      <td>user_19</td>\n      <td>laba06</td>\n      <td>2020-05-19 10:25:54.121465</td>\n      <td>2020-04-21 20:30:38.034966</td>\n    </tr>\n    <tr>\n      <th>49</th>\n      <td>user_10</td>\n      <td>laba06</td>\n      <td>2020-05-19 11:39:28.885637</td>\n      <td>2020-04-18 12:19:50.182714</td>\n    </tr>\n    <tr>\n      <th>50</th>\n      <td>user_30</td>\n      <td>laba06</td>\n      <td>2020-05-19 17:53:15.088248</td>\n      <td>2020-04-17 22:46:26.785035</td>\n    </tr>\n    <tr>\n      <th>51</th>\n      <td>user_21</td>\n      <td>laba06</td>\n      <td>2020-05-19 19:30:14.644328</td>\n      <td>2020-04-22 22:40:36.824081</td>\n    </tr>\n    <tr>\n      <th>52</th>\n      <td>user_10</td>\n      <td>laba06s</td>\n      <td>2020-05-20 07:37:31.175817</td>\n      <td>2020-04-18 12:19:50.182714</td>\n    </tr>\n    <tr>\n      <th>53</th>\n      <td>user_1</td>\n      <td>laba06s</td>\n      <td>2020-05-20 12:23:37.289724</td>\n      <td>2020-04-26 21:53:59.624136</td>\n    </tr>\n    <tr>\n      <th>54</th>\n      <td>user_25</td>\n      <td>laba06s</td>\n      <td>2020-05-20 14:02:26.512032</td>\n      <td>2020-05-09 23:54:54.260791</td>\n    </tr>\n    <tr>\n      <th>55</th>\n      <td>user_28</td>\n      <td>laba06s</td>\n      <td>2020-05-20 20:42:44.423160</td>\n      <td>2020-05-10 21:07:50.350946</td>\n    </tr>\n    <tr>\n      <th>56</th>\n      <td>user_19</td>\n      <td>laba06s</td>\n      <td>2020-05-21 13:27:06.705881</td>\n      <td>2020-04-21 20:30:38.034966</td>\n    </tr>\n    <tr>\n      <th>57</th>\n      <td>user_17</td>\n      <td>laba06</td>\n      <td>2020-05-21 15:21:31.567615</td>\n      <td>2020-04-18 10:56:55.833899</td>\n    </tr>\n    <tr>\n      <th>58</th>\n      <td>user_17</td>\n      <td>laba06s</td>\n      <td>2020-05-21 17:39:17.783615</td>\n      <td>2020-04-18 10:56:55.833899</td>\n    </tr>\n  </tbody>\n</table>\n</div>"
     },
     "execution_count": 87,
     "metadata": {},
     "output_type": "execute_result"
    }
   ],
   "source": [
    "query = \"\"\"\n",
    "        SELECT c.uid, c.labname, c.timestamp 'first_commit_ts', p.datetime 'first_view_ts'\n",
    "        FROM checker c\n",
    "        JOIN pageviews p\n",
    "        ON c.uid = p.uid\n",
    "        WHERE c.status = 'ready' AND c.numTrials = 1\n",
    "                AND c.labname IN ('laba04', 'laba04s', 'laba05', 'laba06', 'laba06s', 'project1')\n",
    "                AND c.uid LIKE 'user_%' AND (p.datetime IN (SELECT info_time\n",
    "                                                            FROM (SELECT uid, MIN(datetime) info_time\n",
    "                                                                  FROM pageviews\n",
    "                                                                  GROUP BY uid))\n",
    "                OR p.datetime IS NULL)\n",
    "        \"\"\"\n",
    "datamart = pd.io.sql.read_sql(query, sql_conn, parse_dates=['first_commit_ts', 'first_view_ts'])\n",
    "datamart"
   ],
   "metadata": {
    "collapsed": false,
    "pycharm": {
     "name": "#%%\n"
    }
   }
  },
  {
   "cell_type": "code",
   "execution_count": 88,
   "outputs": [
    {
     "data": {
      "text/plain": "        uid   labname            first_commit_ts              first_view_ts\n0   user_17  project1 2020-04-18 07:56:45.408648 2020-04-18 10:56:55.833899\n1   user_30    laba04 2020-04-18 13:36:53.971502 2020-04-17 22:46:26.785035\n2   user_30   laba04s 2020-04-18 14:51:37.498399 2020-04-17 22:46:26.785035\n3   user_14    laba04 2020-04-18 15:14:00.312338 2020-04-18 10:53:52.623447\n4   user_14   laba04s 2020-04-18 22:30:30.247628 2020-04-18 10:53:52.623447\n5   user_19    laba04 2020-04-20 19:05:01.297780 2020-04-21 20:30:38.034966\n6   user_25    laba04 2020-04-20 19:16:50.673054 2020-05-09 23:54:54.260791\n7   user_21    laba04 2020-04-21 17:48:00.487806 2020-04-22 22:40:36.824081\n8   user_30  project1 2020-04-22 12:36:24.053518 2020-04-17 22:46:26.785035\n9   user_21   laba04s 2020-04-22 20:09:21.857747 2020-04-22 22:40:36.824081\n10  user_28    laba04 2020-04-22 21:47:19.707242 2020-05-10 21:07:50.350946\n11  user_17    laba04 2020-04-23 14:24:29.947554 2020-04-18 10:56:55.833899\n12   user_3    laba04 2020-04-23 20:29:14.054364 2020-05-08 10:53:47.123832\n13   user_3   laba04s 2020-04-23 20:40:26.883591 2020-05-08 10:53:47.123832\n14  user_10    laba04 2020-04-25 08:24:52.696624 2020-04-18 12:19:50.182714\n15  user_10   laba04s 2020-04-25 08:37:54.604222 2020-04-18 12:19:50.182714\n16  user_17   laba04s 2020-04-25 12:10:56.414175 2020-04-18 10:56:55.833899\n17  user_28   laba04s 2020-04-26 15:53:44.906136 2020-05-10 21:07:50.350946\n18   user_1    laba04 2020-04-26 17:06:18.462708 2020-04-26 21:53:59.624136\n19   user_1   laba04s 2020-04-26 17:12:11.843671 2020-04-26 21:53:59.624136\n20  user_18    laba04 2020-04-26 19:48:11.822365 2020-04-26 22:49:29.243278\n21  user_18   laba04s 2020-04-26 20:03:56.935458 2020-04-26 22:49:29.243278\n22  user_25   laba04s 2020-04-26 21:07:56.952117 2020-05-09 23:54:54.260791\n23  user_14    laba05 2020-04-30 11:33:04.523118 2020-04-18 10:53:52.623447\n24   user_3    laba05 2020-05-01 11:29:17.988118 2020-05-08 10:53:47.123832\n25  user_25    laba05 2020-05-01 13:02:27.357650 2020-05-09 23:54:54.260791\n26  user_28    laba05 2020-05-01 18:29:11.968537 2020-05-10 21:07:50.350946\n27  user_10    laba05 2020-05-01 19:27:26.063245 2020-04-18 12:19:50.182714\n28  user_30    laba05 2020-05-01 19:31:18.375833 2020-04-17 22:46:26.785035\n29  user_17    laba05 2020-05-02 13:21:24.045876 2020-04-18 10:56:55.833899\n30  user_21    laba05 2020-05-02 14:05:40.013959 2020-04-22 22:40:36.824081\n31  user_19    laba05 2020-05-02 15:16:13.586405 2020-04-21 20:30:38.034966\n32   user_1    laba05 2020-05-02 19:15:18.540185 2020-04-26 21:53:59.624136\n33  user_18    laba05 2020-05-03 13:01:34.848756 2020-04-26 22:49:29.243278\n34  user_14  project1 2020-05-05 21:35:43.554986 2020-04-18 10:53:52.623447\n35   user_3  project1 2020-05-07 21:02:52.885133 2020-05-08 10:53:47.123832\n36  user_25  project1 2020-05-08 11:10:28.100852 2020-05-09 23:54:54.260791\n37  user_21  project1 2020-05-10 15:21:05.442755 2020-04-22 22:40:36.824081\n38  user_18  project1 2020-05-11 10:10:04.166881 2020-04-26 22:49:29.243278\n39  user_28  project1 2020-05-12 14:42:19.166414 2020-05-10 21:07:50.350946\n40  user_10  project1 2020-05-12 20:12:28.056618 2020-04-18 12:19:50.182714\n41  user_19  project1 2020-05-14 10:33:45.495389 2020-04-21 20:30:38.034966\n42   user_1  project1 2020-05-14 20:56:08.898880 2020-04-26 21:53:59.624136\n43   user_3    laba06 2020-05-17 09:56:40.480319 2020-05-08 10:53:47.123832\n44   user_1    laba06 2020-05-17 16:26:35.268534 2020-04-26 21:53:59.624136\n45  user_28    laba06 2020-05-17 17:08:48.257050 2020-05-10 21:07:50.350946\n46  user_25    laba06 2020-05-18 17:07:47.988807 2020-05-09 23:54:54.260791\n47   user_3   laba06s 2020-05-19 08:42:50.851878 2020-05-08 10:53:47.123832\n48  user_19    laba06 2020-05-19 10:25:54.121465 2020-04-21 20:30:38.034966\n49  user_10    laba06 2020-05-19 11:39:28.885637 2020-04-18 12:19:50.182714\n50  user_30    laba06 2020-05-19 17:53:15.088248 2020-04-17 22:46:26.785035\n51  user_21    laba06 2020-05-19 19:30:14.644328 2020-04-22 22:40:36.824081\n52  user_10   laba06s 2020-05-20 07:37:31.175817 2020-04-18 12:19:50.182714\n53   user_1   laba06s 2020-05-20 12:23:37.289724 2020-04-26 21:53:59.624136\n54  user_25   laba06s 2020-05-20 14:02:26.512032 2020-05-09 23:54:54.260791\n55  user_28   laba06s 2020-05-20 20:42:44.423160 2020-05-10 21:07:50.350946\n56  user_19   laba06s 2020-05-21 13:27:06.705881 2020-04-21 20:30:38.034966\n57  user_17    laba06 2020-05-21 15:21:31.567615 2020-04-18 10:56:55.833899\n58  user_17   laba06s 2020-05-21 17:39:17.783615 2020-04-18 10:56:55.833899",
      "text/html": "<div>\n<style scoped>\n    .dataframe tbody tr th:only-of-type {\n        vertical-align: middle;\n    }\n\n    .dataframe tbody tr th {\n        vertical-align: top;\n    }\n\n    .dataframe thead th {\n        text-align: right;\n    }\n</style>\n<table border=\"1\" class=\"dataframe\">\n  <thead>\n    <tr style=\"text-align: right;\">\n      <th></th>\n      <th>uid</th>\n      <th>labname</th>\n      <th>first_commit_ts</th>\n      <th>first_view_ts</th>\n    </tr>\n  </thead>\n  <tbody>\n    <tr>\n      <th>0</th>\n      <td>user_17</td>\n      <td>project1</td>\n      <td>2020-04-18 07:56:45.408648</td>\n      <td>2020-04-18 10:56:55.833899</td>\n    </tr>\n    <tr>\n      <th>1</th>\n      <td>user_30</td>\n      <td>laba04</td>\n      <td>2020-04-18 13:36:53.971502</td>\n      <td>2020-04-17 22:46:26.785035</td>\n    </tr>\n    <tr>\n      <th>2</th>\n      <td>user_30</td>\n      <td>laba04s</td>\n      <td>2020-04-18 14:51:37.498399</td>\n      <td>2020-04-17 22:46:26.785035</td>\n    </tr>\n    <tr>\n      <th>3</th>\n      <td>user_14</td>\n      <td>laba04</td>\n      <td>2020-04-18 15:14:00.312338</td>\n      <td>2020-04-18 10:53:52.623447</td>\n    </tr>\n    <tr>\n      <th>4</th>\n      <td>user_14</td>\n      <td>laba04s</td>\n      <td>2020-04-18 22:30:30.247628</td>\n      <td>2020-04-18 10:53:52.623447</td>\n    </tr>\n    <tr>\n      <th>5</th>\n      <td>user_19</td>\n      <td>laba04</td>\n      <td>2020-04-20 19:05:01.297780</td>\n      <td>2020-04-21 20:30:38.034966</td>\n    </tr>\n    <tr>\n      <th>6</th>\n      <td>user_25</td>\n      <td>laba04</td>\n      <td>2020-04-20 19:16:50.673054</td>\n      <td>2020-05-09 23:54:54.260791</td>\n    </tr>\n    <tr>\n      <th>7</th>\n      <td>user_21</td>\n      <td>laba04</td>\n      <td>2020-04-21 17:48:00.487806</td>\n      <td>2020-04-22 22:40:36.824081</td>\n    </tr>\n    <tr>\n      <th>8</th>\n      <td>user_30</td>\n      <td>project1</td>\n      <td>2020-04-22 12:36:24.053518</td>\n      <td>2020-04-17 22:46:26.785035</td>\n    </tr>\n    <tr>\n      <th>9</th>\n      <td>user_21</td>\n      <td>laba04s</td>\n      <td>2020-04-22 20:09:21.857747</td>\n      <td>2020-04-22 22:40:36.824081</td>\n    </tr>\n    <tr>\n      <th>10</th>\n      <td>user_28</td>\n      <td>laba04</td>\n      <td>2020-04-22 21:47:19.707242</td>\n      <td>2020-05-10 21:07:50.350946</td>\n    </tr>\n    <tr>\n      <th>11</th>\n      <td>user_17</td>\n      <td>laba04</td>\n      <td>2020-04-23 14:24:29.947554</td>\n      <td>2020-04-18 10:56:55.833899</td>\n    </tr>\n    <tr>\n      <th>12</th>\n      <td>user_3</td>\n      <td>laba04</td>\n      <td>2020-04-23 20:29:14.054364</td>\n      <td>2020-05-08 10:53:47.123832</td>\n    </tr>\n    <tr>\n      <th>13</th>\n      <td>user_3</td>\n      <td>laba04s</td>\n      <td>2020-04-23 20:40:26.883591</td>\n      <td>2020-05-08 10:53:47.123832</td>\n    </tr>\n    <tr>\n      <th>14</th>\n      <td>user_10</td>\n      <td>laba04</td>\n      <td>2020-04-25 08:24:52.696624</td>\n      <td>2020-04-18 12:19:50.182714</td>\n    </tr>\n    <tr>\n      <th>15</th>\n      <td>user_10</td>\n      <td>laba04s</td>\n      <td>2020-04-25 08:37:54.604222</td>\n      <td>2020-04-18 12:19:50.182714</td>\n    </tr>\n    <tr>\n      <th>16</th>\n      <td>user_17</td>\n      <td>laba04s</td>\n      <td>2020-04-25 12:10:56.414175</td>\n      <td>2020-04-18 10:56:55.833899</td>\n    </tr>\n    <tr>\n      <th>17</th>\n      <td>user_28</td>\n      <td>laba04s</td>\n      <td>2020-04-26 15:53:44.906136</td>\n      <td>2020-05-10 21:07:50.350946</td>\n    </tr>\n    <tr>\n      <th>18</th>\n      <td>user_1</td>\n      <td>laba04</td>\n      <td>2020-04-26 17:06:18.462708</td>\n      <td>2020-04-26 21:53:59.624136</td>\n    </tr>\n    <tr>\n      <th>19</th>\n      <td>user_1</td>\n      <td>laba04s</td>\n      <td>2020-04-26 17:12:11.843671</td>\n      <td>2020-04-26 21:53:59.624136</td>\n    </tr>\n    <tr>\n      <th>20</th>\n      <td>user_18</td>\n      <td>laba04</td>\n      <td>2020-04-26 19:48:11.822365</td>\n      <td>2020-04-26 22:49:29.243278</td>\n    </tr>\n    <tr>\n      <th>21</th>\n      <td>user_18</td>\n      <td>laba04s</td>\n      <td>2020-04-26 20:03:56.935458</td>\n      <td>2020-04-26 22:49:29.243278</td>\n    </tr>\n    <tr>\n      <th>22</th>\n      <td>user_25</td>\n      <td>laba04s</td>\n      <td>2020-04-26 21:07:56.952117</td>\n      <td>2020-05-09 23:54:54.260791</td>\n    </tr>\n    <tr>\n      <th>23</th>\n      <td>user_14</td>\n      <td>laba05</td>\n      <td>2020-04-30 11:33:04.523118</td>\n      <td>2020-04-18 10:53:52.623447</td>\n    </tr>\n    <tr>\n      <th>24</th>\n      <td>user_3</td>\n      <td>laba05</td>\n      <td>2020-05-01 11:29:17.988118</td>\n      <td>2020-05-08 10:53:47.123832</td>\n    </tr>\n    <tr>\n      <th>25</th>\n      <td>user_25</td>\n      <td>laba05</td>\n      <td>2020-05-01 13:02:27.357650</td>\n      <td>2020-05-09 23:54:54.260791</td>\n    </tr>\n    <tr>\n      <th>26</th>\n      <td>user_28</td>\n      <td>laba05</td>\n      <td>2020-05-01 18:29:11.968537</td>\n      <td>2020-05-10 21:07:50.350946</td>\n    </tr>\n    <tr>\n      <th>27</th>\n      <td>user_10</td>\n      <td>laba05</td>\n      <td>2020-05-01 19:27:26.063245</td>\n      <td>2020-04-18 12:19:50.182714</td>\n    </tr>\n    <tr>\n      <th>28</th>\n      <td>user_30</td>\n      <td>laba05</td>\n      <td>2020-05-01 19:31:18.375833</td>\n      <td>2020-04-17 22:46:26.785035</td>\n    </tr>\n    <tr>\n      <th>29</th>\n      <td>user_17</td>\n      <td>laba05</td>\n      <td>2020-05-02 13:21:24.045876</td>\n      <td>2020-04-18 10:56:55.833899</td>\n    </tr>\n    <tr>\n      <th>30</th>\n      <td>user_21</td>\n      <td>laba05</td>\n      <td>2020-05-02 14:05:40.013959</td>\n      <td>2020-04-22 22:40:36.824081</td>\n    </tr>\n    <tr>\n      <th>31</th>\n      <td>user_19</td>\n      <td>laba05</td>\n      <td>2020-05-02 15:16:13.586405</td>\n      <td>2020-04-21 20:30:38.034966</td>\n    </tr>\n    <tr>\n      <th>32</th>\n      <td>user_1</td>\n      <td>laba05</td>\n      <td>2020-05-02 19:15:18.540185</td>\n      <td>2020-04-26 21:53:59.624136</td>\n    </tr>\n    <tr>\n      <th>33</th>\n      <td>user_18</td>\n      <td>laba05</td>\n      <td>2020-05-03 13:01:34.848756</td>\n      <td>2020-04-26 22:49:29.243278</td>\n    </tr>\n    <tr>\n      <th>34</th>\n      <td>user_14</td>\n      <td>project1</td>\n      <td>2020-05-05 21:35:43.554986</td>\n      <td>2020-04-18 10:53:52.623447</td>\n    </tr>\n    <tr>\n      <th>35</th>\n      <td>user_3</td>\n      <td>project1</td>\n      <td>2020-05-07 21:02:52.885133</td>\n      <td>2020-05-08 10:53:47.123832</td>\n    </tr>\n    <tr>\n      <th>36</th>\n      <td>user_25</td>\n      <td>project1</td>\n      <td>2020-05-08 11:10:28.100852</td>\n      <td>2020-05-09 23:54:54.260791</td>\n    </tr>\n    <tr>\n      <th>37</th>\n      <td>user_21</td>\n      <td>project1</td>\n      <td>2020-05-10 15:21:05.442755</td>\n      <td>2020-04-22 22:40:36.824081</td>\n    </tr>\n    <tr>\n      <th>38</th>\n      <td>user_18</td>\n      <td>project1</td>\n      <td>2020-05-11 10:10:04.166881</td>\n      <td>2020-04-26 22:49:29.243278</td>\n    </tr>\n    <tr>\n      <th>39</th>\n      <td>user_28</td>\n      <td>project1</td>\n      <td>2020-05-12 14:42:19.166414</td>\n      <td>2020-05-10 21:07:50.350946</td>\n    </tr>\n    <tr>\n      <th>40</th>\n      <td>user_10</td>\n      <td>project1</td>\n      <td>2020-05-12 20:12:28.056618</td>\n      <td>2020-04-18 12:19:50.182714</td>\n    </tr>\n    <tr>\n      <th>41</th>\n      <td>user_19</td>\n      <td>project1</td>\n      <td>2020-05-14 10:33:45.495389</td>\n      <td>2020-04-21 20:30:38.034966</td>\n    </tr>\n    <tr>\n      <th>42</th>\n      <td>user_1</td>\n      <td>project1</td>\n      <td>2020-05-14 20:56:08.898880</td>\n      <td>2020-04-26 21:53:59.624136</td>\n    </tr>\n    <tr>\n      <th>43</th>\n      <td>user_3</td>\n      <td>laba06</td>\n      <td>2020-05-17 09:56:40.480319</td>\n      <td>2020-05-08 10:53:47.123832</td>\n    </tr>\n    <tr>\n      <th>44</th>\n      <td>user_1</td>\n      <td>laba06</td>\n      <td>2020-05-17 16:26:35.268534</td>\n      <td>2020-04-26 21:53:59.624136</td>\n    </tr>\n    <tr>\n      <th>45</th>\n      <td>user_28</td>\n      <td>laba06</td>\n      <td>2020-05-17 17:08:48.257050</td>\n      <td>2020-05-10 21:07:50.350946</td>\n    </tr>\n    <tr>\n      <th>46</th>\n      <td>user_25</td>\n      <td>laba06</td>\n      <td>2020-05-18 17:07:47.988807</td>\n      <td>2020-05-09 23:54:54.260791</td>\n    </tr>\n    <tr>\n      <th>47</th>\n      <td>user_3</td>\n      <td>laba06s</td>\n      <td>2020-05-19 08:42:50.851878</td>\n      <td>2020-05-08 10:53:47.123832</td>\n    </tr>\n    <tr>\n      <th>48</th>\n      <td>user_19</td>\n      <td>laba06</td>\n      <td>2020-05-19 10:25:54.121465</td>\n      <td>2020-04-21 20:30:38.034966</td>\n    </tr>\n    <tr>\n      <th>49</th>\n      <td>user_10</td>\n      <td>laba06</td>\n      <td>2020-05-19 11:39:28.885637</td>\n      <td>2020-04-18 12:19:50.182714</td>\n    </tr>\n    <tr>\n      <th>50</th>\n      <td>user_30</td>\n      <td>laba06</td>\n      <td>2020-05-19 17:53:15.088248</td>\n      <td>2020-04-17 22:46:26.785035</td>\n    </tr>\n    <tr>\n      <th>51</th>\n      <td>user_21</td>\n      <td>laba06</td>\n      <td>2020-05-19 19:30:14.644328</td>\n      <td>2020-04-22 22:40:36.824081</td>\n    </tr>\n    <tr>\n      <th>52</th>\n      <td>user_10</td>\n      <td>laba06s</td>\n      <td>2020-05-20 07:37:31.175817</td>\n      <td>2020-04-18 12:19:50.182714</td>\n    </tr>\n    <tr>\n      <th>53</th>\n      <td>user_1</td>\n      <td>laba06s</td>\n      <td>2020-05-20 12:23:37.289724</td>\n      <td>2020-04-26 21:53:59.624136</td>\n    </tr>\n    <tr>\n      <th>54</th>\n      <td>user_25</td>\n      <td>laba06s</td>\n      <td>2020-05-20 14:02:26.512032</td>\n      <td>2020-05-09 23:54:54.260791</td>\n    </tr>\n    <tr>\n      <th>55</th>\n      <td>user_28</td>\n      <td>laba06s</td>\n      <td>2020-05-20 20:42:44.423160</td>\n      <td>2020-05-10 21:07:50.350946</td>\n    </tr>\n    <tr>\n      <th>56</th>\n      <td>user_19</td>\n      <td>laba06s</td>\n      <td>2020-05-21 13:27:06.705881</td>\n      <td>2020-04-21 20:30:38.034966</td>\n    </tr>\n    <tr>\n      <th>57</th>\n      <td>user_17</td>\n      <td>laba06</td>\n      <td>2020-05-21 15:21:31.567615</td>\n      <td>2020-04-18 10:56:55.833899</td>\n    </tr>\n    <tr>\n      <th>58</th>\n      <td>user_17</td>\n      <td>laba06s</td>\n      <td>2020-05-21 17:39:17.783615</td>\n      <td>2020-04-18 10:56:55.833899</td>\n    </tr>\n  </tbody>\n</table>\n</div>"
     },
     "execution_count": 88,
     "metadata": {},
     "output_type": "execute_result"
    }
   ],
   "source": [
    "test = datamart[datamart.first_view_ts.notnull()]\n",
    "test"
   ],
   "metadata": {
    "collapsed": false,
    "pycharm": {
     "name": "#%%\n"
    }
   }
  },
  {
   "cell_type": "code",
   "execution_count": 89,
   "outputs": [
    {
     "data": {
      "text/plain": "Empty DataFrame\nColumns: [uid, labname, first_commit_ts, first_view_ts]\nIndex: []",
      "text/html": "<div>\n<style scoped>\n    .dataframe tbody tr th:only-of-type {\n        vertical-align: middle;\n    }\n\n    .dataframe tbody tr th {\n        vertical-align: top;\n    }\n\n    .dataframe thead th {\n        text-align: right;\n    }\n</style>\n<table border=\"1\" class=\"dataframe\">\n  <thead>\n    <tr style=\"text-align: right;\">\n      <th></th>\n      <th>uid</th>\n      <th>labname</th>\n      <th>first_commit_ts</th>\n      <th>first_view_ts</th>\n    </tr>\n  </thead>\n  <tbody>\n  </tbody>\n</table>\n</div>"
     },
     "execution_count": 89,
     "metadata": {},
     "output_type": "execute_result"
    }
   ],
   "source": [
    "control = datamart[datamart.first_view_ts.isnull()]\n",
    "control"
   ],
   "metadata": {
    "collapsed": false,
    "pycharm": {
     "name": "#%%\n"
    }
   }
  },
  {
   "cell_type": "code",
   "execution_count": 90,
   "outputs": [
    {
     "data": {
      "text/plain": "Empty DataFrame\nColumns: [uid, labname, first_commit_ts, first_view_ts]\nIndex: []",
      "text/html": "<div>\n<style scoped>\n    .dataframe tbody tr th:only-of-type {\n        vertical-align: middle;\n    }\n\n    .dataframe tbody tr th {\n        vertical-align: top;\n    }\n\n    .dataframe thead th {\n        text-align: right;\n    }\n</style>\n<table border=\"1\" class=\"dataframe\">\n  <thead>\n    <tr style=\"text-align: right;\">\n      <th></th>\n      <th>uid</th>\n      <th>labname</th>\n      <th>first_commit_ts</th>\n      <th>first_view_ts</th>\n    </tr>\n  </thead>\n  <tbody>\n  </tbody>\n</table>\n</div>"
     },
     "execution_count": 90,
     "metadata": {},
     "output_type": "execute_result"
    }
   ],
   "source": [
    "control = control.fillna(test.first_view_ts.mean())\n",
    "control"
   ],
   "metadata": {
    "collapsed": false,
    "pycharm": {
     "name": "#%%\n"
    }
   }
  },
  {
   "cell_type": "code",
   "execution_count": 91,
   "outputs": [
    {
     "ename": "ValueError",
     "evalue": "Table 'test' already exists.",
     "output_type": "error",
     "traceback": [
      "\u001B[1;31m---------------------------------------------------------------------------\u001B[0m",
      "\u001B[1;31mValueError\u001B[0m                                Traceback (most recent call last)",
      "Input \u001B[1;32mIn [91]\u001B[0m, in \u001B[0;36m<cell line: 1>\u001B[1;34m()\u001B[0m\n\u001B[1;32m----> 1\u001B[0m \u001B[43mtest\u001B[49m\u001B[38;5;241;43m.\u001B[39;49m\u001B[43mto_sql\u001B[49m\u001B[43m(\u001B[49m\u001B[38;5;124;43m'\u001B[39;49m\u001B[38;5;124;43mtest\u001B[39;49m\u001B[38;5;124;43m'\u001B[39;49m\u001B[43m,\u001B[49m\u001B[43m \u001B[49m\u001B[43msql_conn\u001B[49m\u001B[43m)\u001B[49m\n\u001B[0;32m      2\u001B[0m control\u001B[38;5;241m.\u001B[39mto_sql(\u001B[38;5;124m'\u001B[39m\u001B[38;5;124mcontrol\u001B[39m\u001B[38;5;124m'\u001B[39m, sql_conn)\n",
      "File \u001B[1;32m~\\AppData\\Local\\Programs\\Python\\Python310\\lib\\site-packages\\pandas\\core\\generic.py:2951\u001B[0m, in \u001B[0;36mNDFrame.to_sql\u001B[1;34m(self, name, con, schema, if_exists, index, index_label, chunksize, dtype, method)\u001B[0m\n\u001B[0;32m   2794\u001B[0m \u001B[38;5;124;03m\"\"\"\u001B[39;00m\n\u001B[0;32m   2795\u001B[0m \u001B[38;5;124;03mWrite records stored in a DataFrame to a SQL database.\u001B[39;00m\n\u001B[0;32m   2796\u001B[0m \n\u001B[1;32m   (...)\u001B[0m\n\u001B[0;32m   2947\u001B[0m \u001B[38;5;124;03m[(1,), (None,), (2,)]\u001B[39;00m\n\u001B[0;32m   2948\u001B[0m \u001B[38;5;124;03m\"\"\"\u001B[39;00m  \u001B[38;5;66;03m# noqa:E501\u001B[39;00m\n\u001B[0;32m   2949\u001B[0m \u001B[38;5;28;01mfrom\u001B[39;00m \u001B[38;5;21;01mpandas\u001B[39;00m\u001B[38;5;21;01m.\u001B[39;00m\u001B[38;5;21;01mio\u001B[39;00m \u001B[38;5;28;01mimport\u001B[39;00m sql\n\u001B[1;32m-> 2951\u001B[0m \u001B[38;5;28;01mreturn\u001B[39;00m \u001B[43msql\u001B[49m\u001B[38;5;241;43m.\u001B[39;49m\u001B[43mto_sql\u001B[49m\u001B[43m(\u001B[49m\n\u001B[0;32m   2952\u001B[0m \u001B[43m    \u001B[49m\u001B[38;5;28;43mself\u001B[39;49m\u001B[43m,\u001B[49m\n\u001B[0;32m   2953\u001B[0m \u001B[43m    \u001B[49m\u001B[43mname\u001B[49m\u001B[43m,\u001B[49m\n\u001B[0;32m   2954\u001B[0m \u001B[43m    \u001B[49m\u001B[43mcon\u001B[49m\u001B[43m,\u001B[49m\n\u001B[0;32m   2955\u001B[0m \u001B[43m    \u001B[49m\u001B[43mschema\u001B[49m\u001B[38;5;241;43m=\u001B[39;49m\u001B[43mschema\u001B[49m\u001B[43m,\u001B[49m\n\u001B[0;32m   2956\u001B[0m \u001B[43m    \u001B[49m\u001B[43mif_exists\u001B[49m\u001B[38;5;241;43m=\u001B[39;49m\u001B[43mif_exists\u001B[49m\u001B[43m,\u001B[49m\n\u001B[0;32m   2957\u001B[0m \u001B[43m    \u001B[49m\u001B[43mindex\u001B[49m\u001B[38;5;241;43m=\u001B[39;49m\u001B[43mindex\u001B[49m\u001B[43m,\u001B[49m\n\u001B[0;32m   2958\u001B[0m \u001B[43m    \u001B[49m\u001B[43mindex_label\u001B[49m\u001B[38;5;241;43m=\u001B[39;49m\u001B[43mindex_label\u001B[49m\u001B[43m,\u001B[49m\n\u001B[0;32m   2959\u001B[0m \u001B[43m    \u001B[49m\u001B[43mchunksize\u001B[49m\u001B[38;5;241;43m=\u001B[39;49m\u001B[43mchunksize\u001B[49m\u001B[43m,\u001B[49m\n\u001B[0;32m   2960\u001B[0m \u001B[43m    \u001B[49m\u001B[43mdtype\u001B[49m\u001B[38;5;241;43m=\u001B[39;49m\u001B[43mdtype\u001B[49m\u001B[43m,\u001B[49m\n\u001B[0;32m   2961\u001B[0m \u001B[43m    \u001B[49m\u001B[43mmethod\u001B[49m\u001B[38;5;241;43m=\u001B[39;49m\u001B[43mmethod\u001B[49m\u001B[43m,\u001B[49m\n\u001B[0;32m   2962\u001B[0m \u001B[43m\u001B[49m\u001B[43m)\u001B[49m\n",
      "File \u001B[1;32m~\\AppData\\Local\\Programs\\Python\\Python310\\lib\\site-packages\\pandas\\io\\sql.py:697\u001B[0m, in \u001B[0;36mto_sql\u001B[1;34m(frame, name, con, schema, if_exists, index, index_label, chunksize, dtype, method, engine, **engine_kwargs)\u001B[0m\n\u001B[0;32m    692\u001B[0m \u001B[38;5;28;01melif\u001B[39;00m \u001B[38;5;129;01mnot\u001B[39;00m \u001B[38;5;28misinstance\u001B[39m(frame, DataFrame):\n\u001B[0;32m    693\u001B[0m     \u001B[38;5;28;01mraise\u001B[39;00m \u001B[38;5;167;01mNotImplementedError\u001B[39;00m(\n\u001B[0;32m    694\u001B[0m         \u001B[38;5;124m\"\u001B[39m\u001B[38;5;124m'\u001B[39m\u001B[38;5;124mframe\u001B[39m\u001B[38;5;124m'\u001B[39m\u001B[38;5;124m argument should be either a Series or a DataFrame\u001B[39m\u001B[38;5;124m\"\u001B[39m\n\u001B[0;32m    695\u001B[0m     )\n\u001B[1;32m--> 697\u001B[0m \u001B[38;5;28;01mreturn\u001B[39;00m pandas_sql\u001B[38;5;241m.\u001B[39mto_sql(\n\u001B[0;32m    698\u001B[0m     frame,\n\u001B[0;32m    699\u001B[0m     name,\n\u001B[0;32m    700\u001B[0m     if_exists\u001B[38;5;241m=\u001B[39mif_exists,\n\u001B[0;32m    701\u001B[0m     index\u001B[38;5;241m=\u001B[39mindex,\n\u001B[0;32m    702\u001B[0m     index_label\u001B[38;5;241m=\u001B[39mindex_label,\n\u001B[0;32m    703\u001B[0m     schema\u001B[38;5;241m=\u001B[39mschema,\n\u001B[0;32m    704\u001B[0m     chunksize\u001B[38;5;241m=\u001B[39mchunksize,\n\u001B[0;32m    705\u001B[0m     dtype\u001B[38;5;241m=\u001B[39mdtype,\n\u001B[0;32m    706\u001B[0m     method\u001B[38;5;241m=\u001B[39mmethod,\n\u001B[0;32m    707\u001B[0m     engine\u001B[38;5;241m=\u001B[39mengine,\n\u001B[0;32m    708\u001B[0m     \u001B[38;5;241m*\u001B[39m\u001B[38;5;241m*\u001B[39mengine_kwargs,\n\u001B[0;32m    709\u001B[0m )\n",
      "File \u001B[1;32m~\\AppData\\Local\\Programs\\Python\\Python310\\lib\\site-packages\\pandas\\io\\sql.py:2189\u001B[0m, in \u001B[0;36mSQLiteDatabase.to_sql\u001B[1;34m(self, frame, name, if_exists, index, index_label, schema, chunksize, dtype, method, **kwargs)\u001B[0m\n\u001B[0;32m   2178\u001B[0m             \u001B[38;5;28;01mraise\u001B[39;00m \u001B[38;5;167;01mValueError\u001B[39;00m(\u001B[38;5;124mf\u001B[39m\u001B[38;5;124m\"\u001B[39m\u001B[38;5;132;01m{\u001B[39;00mcol\u001B[38;5;132;01m}\u001B[39;00m\u001B[38;5;124m (\u001B[39m\u001B[38;5;132;01m{\u001B[39;00mmy_type\u001B[38;5;132;01m}\u001B[39;00m\u001B[38;5;124m) not a string\u001B[39m\u001B[38;5;124m\"\u001B[39m)\n\u001B[0;32m   2180\u001B[0m table \u001B[38;5;241m=\u001B[39m SQLiteTable(\n\u001B[0;32m   2181\u001B[0m     name,\n\u001B[0;32m   2182\u001B[0m     \u001B[38;5;28mself\u001B[39m,\n\u001B[1;32m   (...)\u001B[0m\n\u001B[0;32m   2187\u001B[0m     dtype\u001B[38;5;241m=\u001B[39mdtype,\n\u001B[0;32m   2188\u001B[0m )\n\u001B[1;32m-> 2189\u001B[0m \u001B[43mtable\u001B[49m\u001B[38;5;241;43m.\u001B[39;49m\u001B[43mcreate\u001B[49m\u001B[43m(\u001B[49m\u001B[43m)\u001B[49m\n\u001B[0;32m   2190\u001B[0m \u001B[38;5;28;01mreturn\u001B[39;00m table\u001B[38;5;241m.\u001B[39minsert(chunksize, method)\n",
      "File \u001B[1;32m~\\AppData\\Local\\Programs\\Python\\Python310\\lib\\site-packages\\pandas\\io\\sql.py:833\u001B[0m, in \u001B[0;36mSQLTable.create\u001B[1;34m(self)\u001B[0m\n\u001B[0;32m    831\u001B[0m \u001B[38;5;28;01mif\u001B[39;00m \u001B[38;5;28mself\u001B[39m\u001B[38;5;241m.\u001B[39mexists():\n\u001B[0;32m    832\u001B[0m     \u001B[38;5;28;01mif\u001B[39;00m \u001B[38;5;28mself\u001B[39m\u001B[38;5;241m.\u001B[39mif_exists \u001B[38;5;241m==\u001B[39m \u001B[38;5;124m\"\u001B[39m\u001B[38;5;124mfail\u001B[39m\u001B[38;5;124m\"\u001B[39m:\n\u001B[1;32m--> 833\u001B[0m         \u001B[38;5;28;01mraise\u001B[39;00m \u001B[38;5;167;01mValueError\u001B[39;00m(\u001B[38;5;124mf\u001B[39m\u001B[38;5;124m\"\u001B[39m\u001B[38;5;124mTable \u001B[39m\u001B[38;5;124m'\u001B[39m\u001B[38;5;132;01m{\u001B[39;00m\u001B[38;5;28mself\u001B[39m\u001B[38;5;241m.\u001B[39mname\u001B[38;5;132;01m}\u001B[39;00m\u001B[38;5;124m'\u001B[39m\u001B[38;5;124m already exists.\u001B[39m\u001B[38;5;124m\"\u001B[39m)\n\u001B[0;32m    834\u001B[0m     \u001B[38;5;28;01melif\u001B[39;00m \u001B[38;5;28mself\u001B[39m\u001B[38;5;241m.\u001B[39mif_exists \u001B[38;5;241m==\u001B[39m \u001B[38;5;124m\"\u001B[39m\u001B[38;5;124mreplace\u001B[39m\u001B[38;5;124m\"\u001B[39m:\n\u001B[0;32m    835\u001B[0m         \u001B[38;5;28mself\u001B[39m\u001B[38;5;241m.\u001B[39mpd_sql\u001B[38;5;241m.\u001B[39mdrop_table(\u001B[38;5;28mself\u001B[39m\u001B[38;5;241m.\u001B[39mname, \u001B[38;5;28mself\u001B[39m\u001B[38;5;241m.\u001B[39mschema)\n",
      "\u001B[1;31mValueError\u001B[0m: Table 'test' already exists."
     ]
    }
   ],
   "source": [
    "test.to_sql('test', sql_conn)\n",
    "control.to_sql('control', sql_conn)"
   ],
   "metadata": {
    "collapsed": false,
    "pycharm": {
     "name": "#%%\n"
    }
   }
  },
  {
   "cell_type": "code",
   "execution_count": 92,
   "outputs": [],
   "source": [
    "sql_conn.close()"
   ],
   "metadata": {
    "collapsed": false,
    "pycharm": {
     "name": "#%%\n"
    }
   }
  },
  {
   "cell_type": "code",
   "execution_count": null,
   "outputs": [],
   "source": [],
   "metadata": {
    "collapsed": false,
    "pycharm": {
     "name": "#%%\n"
    }
   }
  }
 ],
 "metadata": {
  "kernelspec": {
   "display_name": "Python 3",
   "language": "python",
   "name": "python3"
  },
  "language_info": {
   "codemirror_mode": {
    "name": "ipython",
    "version": 2
   },
   "file_extension": ".py",
   "mimetype": "text/x-python",
   "name": "python",
   "nbconvert_exporter": "python",
   "pygments_lexer": "ipython2",
   "version": "2.7.6"
  }
 },
 "nbformat": 4,
 "nbformat_minor": 0
}