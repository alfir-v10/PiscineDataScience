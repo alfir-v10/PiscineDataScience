{
 "cells": [
  {
   "cell_type": "code",
   "execution_count": 1,
   "metadata": {
    "collapsed": true
   },
   "outputs": [],
   "source": [
    "import pandas as pd\n",
    "import sqlite3"
   ]
  },
  {
   "cell_type": "code",
   "execution_count": 7,
   "outputs": [],
   "source": [
    "sql_conn = sqlite3.connect('../data/checking-logs.sqlite')"
   ],
   "metadata": {
    "collapsed": false,
    "pycharm": {
     "name": "#%%\n"
    }
   }
  },
  {
   "cell_type": "code",
   "execution_count": 8,
   "outputs": [
    {
     "data": {
      "text/plain": "     time  avg_diff\n0   after -104.6000\n1  before  -60.5625",
      "text/html": "<div>\n<style scoped>\n    .dataframe tbody tr th:only-of-type {\n        vertical-align: middle;\n    }\n\n    .dataframe tbody tr th {\n        vertical-align: top;\n    }\n\n    .dataframe thead th {\n        text-align: right;\n    }\n</style>\n<table border=\"1\" class=\"dataframe\">\n  <thead>\n    <tr style=\"text-align: right;\">\n      <th></th>\n      <th>time</th>\n      <th>avg_diff</th>\n    </tr>\n  </thead>\n  <tbody>\n    <tr>\n      <th>0</th>\n      <td>after</td>\n      <td>-104.6000</td>\n    </tr>\n    <tr>\n      <th>1</th>\n      <td>before</td>\n      <td>-60.5625</td>\n    </tr>\n  </tbody>\n</table>\n</div>"
     },
     "execution_count": 8,
     "metadata": {},
     "output_type": "execute_result"
    }
   ],
   "source": [
    "query = \"\"\"\n",
    "SELECT\n",
    "    CASE WHEN t.first_commit_ts < t.first_view_ts THEN 'before' ELSE 'after' END AS time,\n",
    "    AVG(CAST((JulianDay(t.first_commit_ts) - JulianDay(d.deadlines, 'unixepoch')) * 24 AS INTEGER)) AS avg_diff\n",
    "FROM test t\n",
    "JOIN deadlines d\n",
    "ON t.labname=d.labs\n",
    "WHERE labname<>'project1' AND uid IN (SELECT uid\n",
    "                                      FROM (SELECT t.uid,\n",
    "                                                    CASE WHEN t.first_commit_ts < t.first_view_ts THEN 'before' ELSE 'after' END AS time\n",
    "                                            FROM test t\n",
    "                                            JOIN deadlines d\n",
    "                                            ON t.labname = d.labs\n",
    "                                            WHERE labname<>'project1')\n",
    "                                      GROUP by uid\n",
    "                                      HAVING COUNT(DISTINCT time)=2)\n",
    "GROUP by time\n",
    "\"\"\"\n",
    "test_results = pd.io.sql.read_sql(query, sql_conn)\n",
    "test_results"
   ],
   "metadata": {
    "collapsed": false,
    "pycharm": {
     "name": "#%%\n"
    }
   }
  },
  {
   "cell_type": "code",
   "execution_count": 9,
   "outputs": [
    {
     "data": {
      "text/plain": "     time    avg_diff\n0   after -117.636364\n1  before  -99.464286",
      "text/html": "<div>\n<style scoped>\n    .dataframe tbody tr th:only-of-type {\n        vertical-align: middle;\n    }\n\n    .dataframe tbody tr th {\n        vertical-align: top;\n    }\n\n    .dataframe thead th {\n        text-align: right;\n    }\n</style>\n<table border=\"1\" class=\"dataframe\">\n  <thead>\n    <tr style=\"text-align: right;\">\n      <th></th>\n      <th>time</th>\n      <th>avg_diff</th>\n    </tr>\n  </thead>\n  <tbody>\n    <tr>\n      <th>0</th>\n      <td>after</td>\n      <td>-117.636364</td>\n    </tr>\n    <tr>\n      <th>1</th>\n      <td>before</td>\n      <td>-99.464286</td>\n    </tr>\n  </tbody>\n</table>\n</div>"
     },
     "execution_count": 9,
     "metadata": {},
     "output_type": "execute_result"
    }
   ],
   "source": [
    "query = '''\n",
    "SELECT CASE WHEN c.first_commit_ts < c.first_view_ts THEN 'before' ELSE 'after' END AS time,\n",
    "        AVG(CAST((JulianDay(c.first_commit_ts) - JulianDay(d.deadlines, 'unixepoch')) * 24 AS INTEGER)) AS avg_diff\n",
    "FROM control c\n",
    "JOIN deadlines d\n",
    "ON c.labname = d.labs\n",
    "WHERE labname <> 'project1'\n",
    "AND uid IN (SELECT uid\n",
    "            FROM (SELECT c.uid, CASE WHEN c.first_commit_ts < c.first_view_ts THEN 'before' ELSE 'after' END AS time\n",
    "                  FROM control c\n",
    "                  JOIN deadlines d\n",
    "                  ON c.labname=d.labs\n",
    "                  WHERE labname<>'project1')\n",
    "            GROUP by uid\n",
    "            HAVING COUNT(DISTINCT time)=2)\n",
    "GROUP by time\n",
    "'''\n",
    "control_results = pd.io.sql.read_sql(query, sql_conn)\n",
    "control_results"
   ],
   "metadata": {
    "collapsed": false,
    "pycharm": {
     "name": "#%%\n"
    }
   }
  },
  {
   "cell_type": "code",
   "execution_count": 10,
   "outputs": [],
   "source": [
    "sql_conn.close()"
   ],
   "metadata": {
    "collapsed": false,
    "pycharm": {
     "name": "#%%\n"
    }
   }
  },
  {
   "cell_type": "code",
   "execution_count": null,
   "outputs": [],
   "source": [],
   "metadata": {
    "collapsed": false,
    "pycharm": {
     "name": "#%%\n"
    }
   }
  }
 ],
 "metadata": {
  "kernelspec": {
   "display_name": "Python 3",
   "language": "python",
   "name": "python3"
  },
  "language_info": {
   "codemirror_mode": {
    "name": "ipython",
    "version": 2
   },
   "file_extension": ".py",
   "mimetype": "text/x-python",
   "name": "python",
   "nbconvert_exporter": "python",
   "pygments_lexer": "ipython2",
   "version": "2.7.6"
  }
 },
 "nbformat": 4,
 "nbformat_minor": 0
}