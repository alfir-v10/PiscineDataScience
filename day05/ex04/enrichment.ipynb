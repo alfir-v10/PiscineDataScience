{
 "cells": [
  {
   "cell_type": "code",
   "execution_count": 1,
   "metadata": {
    "collapsed": true
   },
   "outputs": [],
   "source": [
    "import pandas as pd\n",
    "import numpy as np\n",
    "import requests"
   ]
  },
  {
   "cell_type": "code",
   "execution_count": 3,
   "outputs": [
    {
     "data": {
      "text/plain": "        CarNumber  Refund    Fines    Make    Model\n0    Y163O8161RUS       2  3200.00    Ford    Focus\n1     E432XX77RUS       1  6500.00  Toyota    Camry\n2     7184TT36RUS       1  2100.00    Ford    Focus\n3    X582HE161RUS       2  2000.00    Ford    Focus\n4    92918M178RUS       1  5700.00    Ford    Focus\n..            ...     ...      ...     ...      ...\n720  Y163O8161RUS       2  1600.00    Ford    Focus\n721  M0309X197RUS       1 22300.00    Ford    Focus\n722  O673E8197RUS       2   600.00    Ford    Focus\n723  8610T8154RUS       1  2000.00    Ford    Focus\n724  H419XE197RUS       2  8594.59  Toyota  Corolla\n\n[725 rows x 5 columns]",
      "text/html": "<div>\n<style scoped>\n    .dataframe tbody tr th:only-of-type {\n        vertical-align: middle;\n    }\n\n    .dataframe tbody tr th {\n        vertical-align: top;\n    }\n\n    .dataframe thead th {\n        text-align: right;\n    }\n</style>\n<table border=\"1\" class=\"dataframe\">\n  <thead>\n    <tr style=\"text-align: right;\">\n      <th></th>\n      <th>CarNumber</th>\n      <th>Refund</th>\n      <th>Fines</th>\n      <th>Make</th>\n      <th>Model</th>\n    </tr>\n  </thead>\n  <tbody>\n    <tr>\n      <th>0</th>\n      <td>Y163O8161RUS</td>\n      <td>2</td>\n      <td>3200.00</td>\n      <td>Ford</td>\n      <td>Focus</td>\n    </tr>\n    <tr>\n      <th>1</th>\n      <td>E432XX77RUS</td>\n      <td>1</td>\n      <td>6500.00</td>\n      <td>Toyota</td>\n      <td>Camry</td>\n    </tr>\n    <tr>\n      <th>2</th>\n      <td>7184TT36RUS</td>\n      <td>1</td>\n      <td>2100.00</td>\n      <td>Ford</td>\n      <td>Focus</td>\n    </tr>\n    <tr>\n      <th>3</th>\n      <td>X582HE161RUS</td>\n      <td>2</td>\n      <td>2000.00</td>\n      <td>Ford</td>\n      <td>Focus</td>\n    </tr>\n    <tr>\n      <th>4</th>\n      <td>92918M178RUS</td>\n      <td>1</td>\n      <td>5700.00</td>\n      <td>Ford</td>\n      <td>Focus</td>\n    </tr>\n    <tr>\n      <th>...</th>\n      <td>...</td>\n      <td>...</td>\n      <td>...</td>\n      <td>...</td>\n      <td>...</td>\n    </tr>\n    <tr>\n      <th>720</th>\n      <td>Y163O8161RUS</td>\n      <td>2</td>\n      <td>1600.00</td>\n      <td>Ford</td>\n      <td>Focus</td>\n    </tr>\n    <tr>\n      <th>721</th>\n      <td>M0309X197RUS</td>\n      <td>1</td>\n      <td>22300.00</td>\n      <td>Ford</td>\n      <td>Focus</td>\n    </tr>\n    <tr>\n      <th>722</th>\n      <td>O673E8197RUS</td>\n      <td>2</td>\n      <td>600.00</td>\n      <td>Ford</td>\n      <td>Focus</td>\n    </tr>\n    <tr>\n      <th>723</th>\n      <td>8610T8154RUS</td>\n      <td>1</td>\n      <td>2000.00</td>\n      <td>Ford</td>\n      <td>Focus</td>\n    </tr>\n    <tr>\n      <th>724</th>\n      <td>H419XE197RUS</td>\n      <td>2</td>\n      <td>8594.59</td>\n      <td>Toyota</td>\n      <td>Corolla</td>\n    </tr>\n  </tbody>\n</table>\n<p>725 rows × 5 columns</p>\n</div>"
     },
     "execution_count": 3,
     "metadata": {},
     "output_type": "execute_result"
    }
   ],
   "source": [
    "df = pd.read_json('auto.json')\n",
    "pd.options.display.float_format = '{:.2f}'.format\n",
    "df"
   ],
   "metadata": {
    "collapsed": false,
    "pycharm": {
     "name": "#%%\n"
    }
   }
  },
  {
   "cell_type": "code",
   "execution_count": 5,
   "outputs": [
    {
     "data": {
      "text/plain": "        CarNumber  Refund   Fines        Make   Model\n0    Y163O8161RUS       2 3200.00        Ford   Focus\n1     E432XX77RUS       1 6500.00      Toyota   Camry\n2     7184TT36RUS       1 2100.00        Ford   Focus\n3    X582HE161RUS       2 2000.00        Ford   Focus\n4    92918M178RUS       1 5700.00        Ford   Focus\n..            ...     ...     ...         ...     ...\n920  8182XX154RUS       1  200.00        Ford   Focus\n921   X796TH96RUS       1  500.00        Ford   Focus\n922  T011MY163RUS       2 4000.00        Ford   Focus\n923   T341CC96RUS       2 1000.00  Volkswagen  Passat\n924   T119CT96RUS       1 2000.00        Ford   Focus\n\n[925 rows x 5 columns]",
      "text/html": "<div>\n<style scoped>\n    .dataframe tbody tr th:only-of-type {\n        vertical-align: middle;\n    }\n\n    .dataframe tbody tr th {\n        vertical-align: top;\n    }\n\n    .dataframe thead th {\n        text-align: right;\n    }\n</style>\n<table border=\"1\" class=\"dataframe\">\n  <thead>\n    <tr style=\"text-align: right;\">\n      <th></th>\n      <th>CarNumber</th>\n      <th>Refund</th>\n      <th>Fines</th>\n      <th>Make</th>\n      <th>Model</th>\n    </tr>\n  </thead>\n  <tbody>\n    <tr>\n      <th>0</th>\n      <td>Y163O8161RUS</td>\n      <td>2</td>\n      <td>3200.00</td>\n      <td>Ford</td>\n      <td>Focus</td>\n    </tr>\n    <tr>\n      <th>1</th>\n      <td>E432XX77RUS</td>\n      <td>1</td>\n      <td>6500.00</td>\n      <td>Toyota</td>\n      <td>Camry</td>\n    </tr>\n    <tr>\n      <th>2</th>\n      <td>7184TT36RUS</td>\n      <td>1</td>\n      <td>2100.00</td>\n      <td>Ford</td>\n      <td>Focus</td>\n    </tr>\n    <tr>\n      <th>3</th>\n      <td>X582HE161RUS</td>\n      <td>2</td>\n      <td>2000.00</td>\n      <td>Ford</td>\n      <td>Focus</td>\n    </tr>\n    <tr>\n      <th>4</th>\n      <td>92918M178RUS</td>\n      <td>1</td>\n      <td>5700.00</td>\n      <td>Ford</td>\n      <td>Focus</td>\n    </tr>\n    <tr>\n      <th>...</th>\n      <td>...</td>\n      <td>...</td>\n      <td>...</td>\n      <td>...</td>\n      <td>...</td>\n    </tr>\n    <tr>\n      <th>920</th>\n      <td>8182XX154RUS</td>\n      <td>1</td>\n      <td>200.00</td>\n      <td>Ford</td>\n      <td>Focus</td>\n    </tr>\n    <tr>\n      <th>921</th>\n      <td>X796TH96RUS</td>\n      <td>1</td>\n      <td>500.00</td>\n      <td>Ford</td>\n      <td>Focus</td>\n    </tr>\n    <tr>\n      <th>922</th>\n      <td>T011MY163RUS</td>\n      <td>2</td>\n      <td>4000.00</td>\n      <td>Ford</td>\n      <td>Focus</td>\n    </tr>\n    <tr>\n      <th>923</th>\n      <td>T341CC96RUS</td>\n      <td>2</td>\n      <td>1000.00</td>\n      <td>Volkswagen</td>\n      <td>Passat</td>\n    </tr>\n    <tr>\n      <th>924</th>\n      <td>T119CT96RUS</td>\n      <td>1</td>\n      <td>2000.00</td>\n      <td>Ford</td>\n      <td>Focus</td>\n    </tr>\n  </tbody>\n</table>\n<p>925 rows × 5 columns</p>\n</div>"
     },
     "execution_count": 5,
     "metadata": {},
     "output_type": "execute_result"
    }
   ],
   "source": [
    "df_concat = pd.concat([df, df.sample(n=200, random_state=21)], ignore_index=True)\n",
    "df_concat"
   ],
   "metadata": {
    "collapsed": false,
    "pycharm": {
     "name": "#%%\n"
    }
   }
  },
  {
   "cell_type": "code",
   "execution_count": 6,
   "outputs": [
    {
     "data": {
      "text/plain": "        CarNumber  Refund   Fines        Make   Model  Year\n0    Y163O8161RUS       2 3200.00        Ford   Focus  1989\n1     E432XX77RUS       1 6500.00      Toyota   Camry  1995\n2     7184TT36RUS       1 2100.00        Ford   Focus  1984\n3    X582HE161RUS       2 2000.00        Ford   Focus  2015\n4    92918M178RUS       1 5700.00        Ford   Focus  2014\n..            ...     ...     ...         ...     ...   ...\n920  8182XX154RUS       1  200.00        Ford   Focus  1981\n921   X796TH96RUS       1  500.00        Ford   Focus  1992\n922  T011MY163RUS       2 4000.00        Ford   Focus  2007\n923   T341CC96RUS       2 1000.00  Volkswagen  Passat  2005\n924   T119CT96RUS       1 2000.00        Ford   Focus  1997\n\n[925 rows x 6 columns]",
      "text/html": "<div>\n<style scoped>\n    .dataframe tbody tr th:only-of-type {\n        vertical-align: middle;\n    }\n\n    .dataframe tbody tr th {\n        vertical-align: top;\n    }\n\n    .dataframe thead th {\n        text-align: right;\n    }\n</style>\n<table border=\"1\" class=\"dataframe\">\n  <thead>\n    <tr style=\"text-align: right;\">\n      <th></th>\n      <th>CarNumber</th>\n      <th>Refund</th>\n      <th>Fines</th>\n      <th>Make</th>\n      <th>Model</th>\n      <th>Year</th>\n    </tr>\n  </thead>\n  <tbody>\n    <tr>\n      <th>0</th>\n      <td>Y163O8161RUS</td>\n      <td>2</td>\n      <td>3200.00</td>\n      <td>Ford</td>\n      <td>Focus</td>\n      <td>1989</td>\n    </tr>\n    <tr>\n      <th>1</th>\n      <td>E432XX77RUS</td>\n      <td>1</td>\n      <td>6500.00</td>\n      <td>Toyota</td>\n      <td>Camry</td>\n      <td>1995</td>\n    </tr>\n    <tr>\n      <th>2</th>\n      <td>7184TT36RUS</td>\n      <td>1</td>\n      <td>2100.00</td>\n      <td>Ford</td>\n      <td>Focus</td>\n      <td>1984</td>\n    </tr>\n    <tr>\n      <th>3</th>\n      <td>X582HE161RUS</td>\n      <td>2</td>\n      <td>2000.00</td>\n      <td>Ford</td>\n      <td>Focus</td>\n      <td>2015</td>\n    </tr>\n    <tr>\n      <th>4</th>\n      <td>92918M178RUS</td>\n      <td>1</td>\n      <td>5700.00</td>\n      <td>Ford</td>\n      <td>Focus</td>\n      <td>2014</td>\n    </tr>\n    <tr>\n      <th>...</th>\n      <td>...</td>\n      <td>...</td>\n      <td>...</td>\n      <td>...</td>\n      <td>...</td>\n      <td>...</td>\n    </tr>\n    <tr>\n      <th>920</th>\n      <td>8182XX154RUS</td>\n      <td>1</td>\n      <td>200.00</td>\n      <td>Ford</td>\n      <td>Focus</td>\n      <td>1981</td>\n    </tr>\n    <tr>\n      <th>921</th>\n      <td>X796TH96RUS</td>\n      <td>1</td>\n      <td>500.00</td>\n      <td>Ford</td>\n      <td>Focus</td>\n      <td>1992</td>\n    </tr>\n    <tr>\n      <th>922</th>\n      <td>T011MY163RUS</td>\n      <td>2</td>\n      <td>4000.00</td>\n      <td>Ford</td>\n      <td>Focus</td>\n      <td>2007</td>\n    </tr>\n    <tr>\n      <th>923</th>\n      <td>T341CC96RUS</td>\n      <td>2</td>\n      <td>1000.00</td>\n      <td>Volkswagen</td>\n      <td>Passat</td>\n      <td>2005</td>\n    </tr>\n    <tr>\n      <th>924</th>\n      <td>T119CT96RUS</td>\n      <td>1</td>\n      <td>2000.00</td>\n      <td>Ford</td>\n      <td>Focus</td>\n      <td>1997</td>\n    </tr>\n  </tbody>\n</table>\n<p>925 rows × 6 columns</p>\n</div>"
     },
     "execution_count": 6,
     "metadata": {},
     "output_type": "execute_result"
    }
   ],
   "source": [
    "np.random.seed(21)\n",
    "df_concat['Year'] = np.random.randint(1980, 2020, size=925)\n",
    "df_concat"
   ],
   "metadata": {
    "collapsed": false,
    "pycharm": {
     "name": "#%%\n"
    }
   }
  },
  {
   "cell_type": "code",
   "execution_count": 7,
   "outputs": [
    {
     "data": {
      "text/plain": "         NAME    COUNT RANK\n49      LOPEZ   874523   12\n28   GONZALEZ   841025   13\n97     WILSON   801882   14\n4    ANDERSON   784404   15\n88     THOMAS   756142   16\n..        ...      ...  ...\n53     MILLER  1161437    7\n20      DAVIS  1116357    8\n78  RODRIGUEZ  1094924    9\n51   MARTINEZ  1060159   10\n34  HERNANDEZ  1043281   11\n\n[100 rows x 3 columns]",
      "text/html": "<div>\n<style scoped>\n    .dataframe tbody tr th:only-of-type {\n        vertical-align: middle;\n    }\n\n    .dataframe tbody tr th {\n        vertical-align: top;\n    }\n\n    .dataframe thead th {\n        text-align: right;\n    }\n</style>\n<table border=\"1\" class=\"dataframe\">\n  <thead>\n    <tr style=\"text-align: right;\">\n      <th></th>\n      <th>NAME</th>\n      <th>COUNT</th>\n      <th>RANK</th>\n    </tr>\n  </thead>\n  <tbody>\n    <tr>\n      <th>49</th>\n      <td>LOPEZ</td>\n      <td>874523</td>\n      <td>12</td>\n    </tr>\n    <tr>\n      <th>28</th>\n      <td>GONZALEZ</td>\n      <td>841025</td>\n      <td>13</td>\n    </tr>\n    <tr>\n      <th>97</th>\n      <td>WILSON</td>\n      <td>801882</td>\n      <td>14</td>\n    </tr>\n    <tr>\n      <th>4</th>\n      <td>ANDERSON</td>\n      <td>784404</td>\n      <td>15</td>\n    </tr>\n    <tr>\n      <th>88</th>\n      <td>THOMAS</td>\n      <td>756142</td>\n      <td>16</td>\n    </tr>\n    <tr>\n      <th>...</th>\n      <td>...</td>\n      <td>...</td>\n      <td>...</td>\n    </tr>\n    <tr>\n      <th>53</th>\n      <td>MILLER</td>\n      <td>1161437</td>\n      <td>7</td>\n    </tr>\n    <tr>\n      <th>20</th>\n      <td>DAVIS</td>\n      <td>1116357</td>\n      <td>8</td>\n    </tr>\n    <tr>\n      <th>78</th>\n      <td>RODRIGUEZ</td>\n      <td>1094924</td>\n      <td>9</td>\n    </tr>\n    <tr>\n      <th>51</th>\n      <td>MARTINEZ</td>\n      <td>1060159</td>\n      <td>10</td>\n    </tr>\n    <tr>\n      <th>34</th>\n      <td>HERNANDEZ</td>\n      <td>1043281</td>\n      <td>11</td>\n    </tr>\n  </tbody>\n</table>\n<p>100 rows × 3 columns</p>\n</div>"
     },
     "execution_count": 7,
     "metadata": {},
     "output_type": "execute_result"
    }
   ],
   "source": [
    "df_surname = pd.read_json('surname.json')\n",
    "df_surname.rename(columns=df_surname.iloc[0], inplace=True)\n",
    "df_surname.drop(df_surname.index[0], inplace=True)\n",
    "df_surname.sort_values(by=['COUNT'], ascending=False, inplace=True)\n",
    "df_surname"
   ],
   "metadata": {
    "collapsed": false,
    "pycharm": {
     "name": "#%%\n"
    }
   }
  },
  {
   "cell_type": "code",
   "execution_count": 8,
   "outputs": [
    {
     "data": {
      "text/plain": "0      Y163O8161RUS\n1       E432XX77RUS\n2       7184TT36RUS\n3      X582HE161RUS\n4      92918M178RUS\n           ...     \n526    O136HO197RUS\n527    O22097197RUS\n528    M0309X197RUS\n529    O673E8197RUS\n530    8610T8154RUS\nName: CarNumber, Length: 531, dtype: object"
     },
     "execution_count": 8,
     "metadata": {},
     "output_type": "execute_result"
    }
   ],
   "source": [
    "df_car = df_concat.drop_duplicates('CarNumber')['CarNumber'].reset_index(drop=True)\n",
    "df_car"
   ],
   "metadata": {
    "collapsed": false,
    "pycharm": {
     "name": "#%%\n"
    }
   }
  },
  {
   "cell_type": "code",
   "execution_count": 11,
   "outputs": [
    {
     "data": {
      "text/plain": "0       JAMES\n1      HUGHES\n2       ORTIZ\n3      THOMAS\n4       REYES\n        ...  \n526       LEE\n527    NELSON\n528    TAYLOR\n529     YOUNG\n530     ORTIZ\nName: NAME, Length: 531, dtype: object"
     },
     "execution_count": 11,
     "metadata": {},
     "output_type": "execute_result"
    }
   ],
   "source": [
    "df_name = df_surname['NAME'].sample(n=df_car.shape[0], random_state=21, replace=True, ignore_index=True)\n",
    "df_name"
   ],
   "metadata": {
    "collapsed": false,
    "pycharm": {
     "name": "#%%\n"
    }
   }
  },
  {
   "cell_type": "code",
   "execution_count": 12,
   "outputs": [
    {
     "data": {
      "text/plain": "        CarNumber SURNAME\n0    Y163O8161RUS   JAMES\n1     E432XX77RUS  HUGHES\n2     7184TT36RUS   ORTIZ\n3    X582HE161RUS  THOMAS\n4    92918M178RUS   REYES\n..            ...     ...\n526  O136HO197RUS     LEE\n527  O22097197RUS  NELSON\n528  M0309X197RUS  TAYLOR\n529  O673E8197RUS   YOUNG\n530  8610T8154RUS   ORTIZ\n\n[531 rows x 2 columns]",
      "text/html": "<div>\n<style scoped>\n    .dataframe tbody tr th:only-of-type {\n        vertical-align: middle;\n    }\n\n    .dataframe tbody tr th {\n        vertical-align: top;\n    }\n\n    .dataframe thead th {\n        text-align: right;\n    }\n</style>\n<table border=\"1\" class=\"dataframe\">\n  <thead>\n    <tr style=\"text-align: right;\">\n      <th></th>\n      <th>CarNumber</th>\n      <th>SURNAME</th>\n    </tr>\n  </thead>\n  <tbody>\n    <tr>\n      <th>0</th>\n      <td>Y163O8161RUS</td>\n      <td>JAMES</td>\n    </tr>\n    <tr>\n      <th>1</th>\n      <td>E432XX77RUS</td>\n      <td>HUGHES</td>\n    </tr>\n    <tr>\n      <th>2</th>\n      <td>7184TT36RUS</td>\n      <td>ORTIZ</td>\n    </tr>\n    <tr>\n      <th>3</th>\n      <td>X582HE161RUS</td>\n      <td>THOMAS</td>\n    </tr>\n    <tr>\n      <th>4</th>\n      <td>92918M178RUS</td>\n      <td>REYES</td>\n    </tr>\n    <tr>\n      <th>...</th>\n      <td>...</td>\n      <td>...</td>\n    </tr>\n    <tr>\n      <th>526</th>\n      <td>O136HO197RUS</td>\n      <td>LEE</td>\n    </tr>\n    <tr>\n      <th>527</th>\n      <td>O22097197RUS</td>\n      <td>NELSON</td>\n    </tr>\n    <tr>\n      <th>528</th>\n      <td>M0309X197RUS</td>\n      <td>TAYLOR</td>\n    </tr>\n    <tr>\n      <th>529</th>\n      <td>O673E8197RUS</td>\n      <td>YOUNG</td>\n    </tr>\n    <tr>\n      <th>530</th>\n      <td>8610T8154RUS</td>\n      <td>ORTIZ</td>\n    </tr>\n  </tbody>\n</table>\n<p>531 rows × 2 columns</p>\n</div>"
     },
     "execution_count": 12,
     "metadata": {},
     "output_type": "execute_result"
    }
   ],
   "source": [
    "df_owners = pd.DataFrame(data=df_car)\n",
    "df_owners['SURNAME'] = df_name\n",
    "df_owners"
   ],
   "metadata": {
    "collapsed": false,
    "pycharm": {
     "name": "#%%\n"
    }
   }
  },
  {
   "cell_type": "code",
   "execution_count": 15,
   "outputs": [
    {
     "data": {
      "text/plain": "        CarNumber  Refund    Fines    Make  Model  Year\n0    Y163O8161RUS       2  3200.00    Ford  Focus  1989\n1     E432XX77RUS       1  6500.00  Toyota  Camry  1995\n2     7184TT36RUS       1  2100.00    Ford  Focus  1984\n3    X582HE161RUS       2  2000.00    Ford  Focus  2015\n4    92918M178RUS       1  5700.00    Ford  Focus  2014\n..            ...     ...      ...     ...    ...   ...\n925  C584EY154RUS       1   500.00    Ford  Focus  2014\n926  T395KX197RUS       2 15200.00    Ford  Focus  2016\n927  8441XX154RUS       1   500.00    Ford  Focus  1994\n928  C590EY154RUS       2  8594.59    Ford  Focus  1982\n929   T171CC96RUS       1  1000.00    Ford  Focus  2017\n\n[930 rows x 6 columns]",
      "text/html": "<div>\n<style scoped>\n    .dataframe tbody tr th:only-of-type {\n        vertical-align: middle;\n    }\n\n    .dataframe tbody tr th {\n        vertical-align: top;\n    }\n\n    .dataframe thead th {\n        text-align: right;\n    }\n</style>\n<table border=\"1\" class=\"dataframe\">\n  <thead>\n    <tr style=\"text-align: right;\">\n      <th></th>\n      <th>CarNumber</th>\n      <th>Refund</th>\n      <th>Fines</th>\n      <th>Make</th>\n      <th>Model</th>\n      <th>Year</th>\n    </tr>\n  </thead>\n  <tbody>\n    <tr>\n      <th>0</th>\n      <td>Y163O8161RUS</td>\n      <td>2</td>\n      <td>3200.00</td>\n      <td>Ford</td>\n      <td>Focus</td>\n      <td>1989</td>\n    </tr>\n    <tr>\n      <th>1</th>\n      <td>E432XX77RUS</td>\n      <td>1</td>\n      <td>6500.00</td>\n      <td>Toyota</td>\n      <td>Camry</td>\n      <td>1995</td>\n    </tr>\n    <tr>\n      <th>2</th>\n      <td>7184TT36RUS</td>\n      <td>1</td>\n      <td>2100.00</td>\n      <td>Ford</td>\n      <td>Focus</td>\n      <td>1984</td>\n    </tr>\n    <tr>\n      <th>3</th>\n      <td>X582HE161RUS</td>\n      <td>2</td>\n      <td>2000.00</td>\n      <td>Ford</td>\n      <td>Focus</td>\n      <td>2015</td>\n    </tr>\n    <tr>\n      <th>4</th>\n      <td>92918M178RUS</td>\n      <td>1</td>\n      <td>5700.00</td>\n      <td>Ford</td>\n      <td>Focus</td>\n      <td>2014</td>\n    </tr>\n    <tr>\n      <th>...</th>\n      <td>...</td>\n      <td>...</td>\n      <td>...</td>\n      <td>...</td>\n      <td>...</td>\n      <td>...</td>\n    </tr>\n    <tr>\n      <th>925</th>\n      <td>C584EY154RUS</td>\n      <td>1</td>\n      <td>500.00</td>\n      <td>Ford</td>\n      <td>Focus</td>\n      <td>2014</td>\n    </tr>\n    <tr>\n      <th>926</th>\n      <td>T395KX197RUS</td>\n      <td>2</td>\n      <td>15200.00</td>\n      <td>Ford</td>\n      <td>Focus</td>\n      <td>2016</td>\n    </tr>\n    <tr>\n      <th>927</th>\n      <td>8441XX154RUS</td>\n      <td>1</td>\n      <td>500.00</td>\n      <td>Ford</td>\n      <td>Focus</td>\n      <td>1994</td>\n    </tr>\n    <tr>\n      <th>928</th>\n      <td>C590EY154RUS</td>\n      <td>2</td>\n      <td>8594.59</td>\n      <td>Ford</td>\n      <td>Focus</td>\n      <td>1982</td>\n    </tr>\n    <tr>\n      <th>929</th>\n      <td>T171CC96RUS</td>\n      <td>1</td>\n      <td>1000.00</td>\n      <td>Ford</td>\n      <td>Focus</td>\n      <td>2017</td>\n    </tr>\n  </tbody>\n</table>\n<p>930 rows × 6 columns</p>\n</div>"
     },
     "execution_count": 15,
     "metadata": {},
     "output_type": "execute_result"
    }
   ],
   "source": [
    "df_fines = pd.concat([df_concat, df_concat.sample(n=5, random_state=21)], ignore_index=True)\n",
    "df_fines"
   ],
   "metadata": {
    "collapsed": false,
    "pycharm": {
     "name": "#%%\n"
    }
   }
  },
  {
   "cell_type": "code",
   "execution_count": 16,
   "outputs": [
    {
     "data": {
      "text/plain": "        CarNumber   SURNAME\n0    Y163O8161RUS     JAMES\n1     E432XX77RUS    HUGHES\n2     7184TT36RUS     ORTIZ\n3    X582HE161RUS    THOMAS\n4    92918M178RUS     REYES\n..            ...       ...\n509  O50197197RUS  MARTINEZ\n510  7608EE777RUS    RIVERA\n511  704687163RUS     LOPEZ\n512  97968K152RUS   STEWART\n513  82337X197RUS   MENDOZA\n\n[514 rows x 2 columns]",
      "text/html": "<div>\n<style scoped>\n    .dataframe tbody tr th:only-of-type {\n        vertical-align: middle;\n    }\n\n    .dataframe tbody tr th {\n        vertical-align: top;\n    }\n\n    .dataframe thead th {\n        text-align: right;\n    }\n</style>\n<table border=\"1\" class=\"dataframe\">\n  <thead>\n    <tr style=\"text-align: right;\">\n      <th></th>\n      <th>CarNumber</th>\n      <th>SURNAME</th>\n    </tr>\n  </thead>\n  <tbody>\n    <tr>\n      <th>0</th>\n      <td>Y163O8161RUS</td>\n      <td>JAMES</td>\n    </tr>\n    <tr>\n      <th>1</th>\n      <td>E432XX77RUS</td>\n      <td>HUGHES</td>\n    </tr>\n    <tr>\n      <th>2</th>\n      <td>7184TT36RUS</td>\n      <td>ORTIZ</td>\n    </tr>\n    <tr>\n      <th>3</th>\n      <td>X582HE161RUS</td>\n      <td>THOMAS</td>\n    </tr>\n    <tr>\n      <th>4</th>\n      <td>92918M178RUS</td>\n      <td>REYES</td>\n    </tr>\n    <tr>\n      <th>...</th>\n      <td>...</td>\n      <td>...</td>\n    </tr>\n    <tr>\n      <th>509</th>\n      <td>O50197197RUS</td>\n      <td>MARTINEZ</td>\n    </tr>\n    <tr>\n      <th>510</th>\n      <td>7608EE777RUS</td>\n      <td>RIVERA</td>\n    </tr>\n    <tr>\n      <th>511</th>\n      <td>704687163RUS</td>\n      <td>LOPEZ</td>\n    </tr>\n    <tr>\n      <th>512</th>\n      <td>97968K152RUS</td>\n      <td>STEWART</td>\n    </tr>\n    <tr>\n      <th>513</th>\n      <td>82337X197RUS</td>\n      <td>MENDOZA</td>\n    </tr>\n  </tbody>\n</table>\n<p>514 rows × 2 columns</p>\n</div>"
     },
     "execution_count": 16,
     "metadata": {},
     "output_type": "execute_result"
    }
   ],
   "source": [
    "df_owners.drop(df_owners.tail(20).index, inplace=True)\n",
    "df_owners = pd.concat([df_owners, df_owners.sample(n=3, random_state=21)], ignore_index=True)\n",
    "df_owners"
   ],
   "metadata": {
    "collapsed": false,
    "pycharm": {
     "name": "#%%\n"
    }
   }
  },
  {
   "cell_type": "code",
   "execution_count": 18,
   "outputs": [
    {
     "data": {
      "text/plain": "        CarNumber  Refund    Fines    Make    Model  Year   SURNAME\n0    Y163O8161RUS       2  3200.00    Ford    Focus  1989     JAMES\n1    Y163O8161RUS       2  1600.00    Ford    Focus  1980     JAMES\n2     E432XX77RUS       1  6500.00  Toyota    Camry  1995    HUGHES\n3     E432XX77RUS       2 13000.00  Toyota    Camry  2018    HUGHES\n4     7184TT36RUS       1  2100.00    Ford    Focus  1984     ORTIZ\n..            ...     ...      ...     ...      ...   ...       ...\n903  E41977152RUS       2  2400.00    Ford    Focus  1989    TAYLOR\n904  9464EX178RUS       2  2100.00    Ford    Focus  1988   STEWART\n905  O50197197RUS       2  7800.00    Ford    Focus  1992  MARTINEZ\n906  7608EE777RUS       1  4000.00   Skoda  Octavia  2000    RIVERA\n907  7608EE777RUS       1  4000.00   Skoda  Octavia  1991    RIVERA\n\n[908 rows x 7 columns]",
      "text/html": "<div>\n<style scoped>\n    .dataframe tbody tr th:only-of-type {\n        vertical-align: middle;\n    }\n\n    .dataframe tbody tr th {\n        vertical-align: top;\n    }\n\n    .dataframe thead th {\n        text-align: right;\n    }\n</style>\n<table border=\"1\" class=\"dataframe\">\n  <thead>\n    <tr style=\"text-align: right;\">\n      <th></th>\n      <th>CarNumber</th>\n      <th>Refund</th>\n      <th>Fines</th>\n      <th>Make</th>\n      <th>Model</th>\n      <th>Year</th>\n      <th>SURNAME</th>\n    </tr>\n  </thead>\n  <tbody>\n    <tr>\n      <th>0</th>\n      <td>Y163O8161RUS</td>\n      <td>2</td>\n      <td>3200.00</td>\n      <td>Ford</td>\n      <td>Focus</td>\n      <td>1989</td>\n      <td>JAMES</td>\n    </tr>\n    <tr>\n      <th>1</th>\n      <td>Y163O8161RUS</td>\n      <td>2</td>\n      <td>1600.00</td>\n      <td>Ford</td>\n      <td>Focus</td>\n      <td>1980</td>\n      <td>JAMES</td>\n    </tr>\n    <tr>\n      <th>2</th>\n      <td>E432XX77RUS</td>\n      <td>1</td>\n      <td>6500.00</td>\n      <td>Toyota</td>\n      <td>Camry</td>\n      <td>1995</td>\n      <td>HUGHES</td>\n    </tr>\n    <tr>\n      <th>3</th>\n      <td>E432XX77RUS</td>\n      <td>2</td>\n      <td>13000.00</td>\n      <td>Toyota</td>\n      <td>Camry</td>\n      <td>2018</td>\n      <td>HUGHES</td>\n    </tr>\n    <tr>\n      <th>4</th>\n      <td>7184TT36RUS</td>\n      <td>1</td>\n      <td>2100.00</td>\n      <td>Ford</td>\n      <td>Focus</td>\n      <td>1984</td>\n      <td>ORTIZ</td>\n    </tr>\n    <tr>\n      <th>...</th>\n      <td>...</td>\n      <td>...</td>\n      <td>...</td>\n      <td>...</td>\n      <td>...</td>\n      <td>...</td>\n      <td>...</td>\n    </tr>\n    <tr>\n      <th>903</th>\n      <td>E41977152RUS</td>\n      <td>2</td>\n      <td>2400.00</td>\n      <td>Ford</td>\n      <td>Focus</td>\n      <td>1989</td>\n      <td>TAYLOR</td>\n    </tr>\n    <tr>\n      <th>904</th>\n      <td>9464EX178RUS</td>\n      <td>2</td>\n      <td>2100.00</td>\n      <td>Ford</td>\n      <td>Focus</td>\n      <td>1988</td>\n      <td>STEWART</td>\n    </tr>\n    <tr>\n      <th>905</th>\n      <td>O50197197RUS</td>\n      <td>2</td>\n      <td>7800.00</td>\n      <td>Ford</td>\n      <td>Focus</td>\n      <td>1992</td>\n      <td>MARTINEZ</td>\n    </tr>\n    <tr>\n      <th>906</th>\n      <td>7608EE777RUS</td>\n      <td>1</td>\n      <td>4000.00</td>\n      <td>Skoda</td>\n      <td>Octavia</td>\n      <td>2000</td>\n      <td>RIVERA</td>\n    </tr>\n    <tr>\n      <th>907</th>\n      <td>7608EE777RUS</td>\n      <td>1</td>\n      <td>4000.00</td>\n      <td>Skoda</td>\n      <td>Octavia</td>\n      <td>1991</td>\n      <td>RIVERA</td>\n    </tr>\n  </tbody>\n</table>\n<p>908 rows × 7 columns</p>\n</div>"
     },
     "execution_count": 18,
     "metadata": {},
     "output_type": "execute_result"
    }
   ],
   "source": [
    "df_inner = pd.merge(df_fines, df_owners, on='CarNumber', how='inner')\n",
    "df_inner"
   ],
   "metadata": {
    "collapsed": false,
    "pycharm": {
     "name": "#%%\n"
    }
   }
  },
  {
   "cell_type": "code",
   "execution_count": 19,
   "outputs": [
    {
     "data": {
      "text/plain": "        CarNumber  Refund    Fines    Make  Model  Year SURNAME\n0    Y163O8161RUS       2  3200.00    Ford  Focus  1989   JAMES\n1    Y163O8161RUS       2  1600.00    Ford  Focus  1980   JAMES\n2     E432XX77RUS       1  6500.00  Toyota  Camry  1995  HUGHES\n3     E432XX77RUS       2 13000.00  Toyota  Camry  2018  HUGHES\n4     7184TT36RUS       1  2100.00    Ford  Focus  1984   ORTIZ\n..            ...     ...      ...     ...    ...   ...     ...\n929  O22097197RUS       1 24300.00    Ford  Focus  2017     NaN\n930  O22097197RUS       1 24300.00    Ford  Focus  1982     NaN\n931  M0309X197RUS       1 22300.00    Ford  Focus  1998     NaN\n932  O673E8197RUS       2   600.00    Ford  Focus  1985     NaN\n933  8610T8154RUS       1  2000.00    Ford  Focus  1995     NaN\n\n[934 rows x 7 columns]",
      "text/html": "<div>\n<style scoped>\n    .dataframe tbody tr th:only-of-type {\n        vertical-align: middle;\n    }\n\n    .dataframe tbody tr th {\n        vertical-align: top;\n    }\n\n    .dataframe thead th {\n        text-align: right;\n    }\n</style>\n<table border=\"1\" class=\"dataframe\">\n  <thead>\n    <tr style=\"text-align: right;\">\n      <th></th>\n      <th>CarNumber</th>\n      <th>Refund</th>\n      <th>Fines</th>\n      <th>Make</th>\n      <th>Model</th>\n      <th>Year</th>\n      <th>SURNAME</th>\n    </tr>\n  </thead>\n  <tbody>\n    <tr>\n      <th>0</th>\n      <td>Y163O8161RUS</td>\n      <td>2</td>\n      <td>3200.00</td>\n      <td>Ford</td>\n      <td>Focus</td>\n      <td>1989</td>\n      <td>JAMES</td>\n    </tr>\n    <tr>\n      <th>1</th>\n      <td>Y163O8161RUS</td>\n      <td>2</td>\n      <td>1600.00</td>\n      <td>Ford</td>\n      <td>Focus</td>\n      <td>1980</td>\n      <td>JAMES</td>\n    </tr>\n    <tr>\n      <th>2</th>\n      <td>E432XX77RUS</td>\n      <td>1</td>\n      <td>6500.00</td>\n      <td>Toyota</td>\n      <td>Camry</td>\n      <td>1995</td>\n      <td>HUGHES</td>\n    </tr>\n    <tr>\n      <th>3</th>\n      <td>E432XX77RUS</td>\n      <td>2</td>\n      <td>13000.00</td>\n      <td>Toyota</td>\n      <td>Camry</td>\n      <td>2018</td>\n      <td>HUGHES</td>\n    </tr>\n    <tr>\n      <th>4</th>\n      <td>7184TT36RUS</td>\n      <td>1</td>\n      <td>2100.00</td>\n      <td>Ford</td>\n      <td>Focus</td>\n      <td>1984</td>\n      <td>ORTIZ</td>\n    </tr>\n    <tr>\n      <th>...</th>\n      <td>...</td>\n      <td>...</td>\n      <td>...</td>\n      <td>...</td>\n      <td>...</td>\n      <td>...</td>\n      <td>...</td>\n    </tr>\n    <tr>\n      <th>929</th>\n      <td>O22097197RUS</td>\n      <td>1</td>\n      <td>24300.00</td>\n      <td>Ford</td>\n      <td>Focus</td>\n      <td>2017</td>\n      <td>NaN</td>\n    </tr>\n    <tr>\n      <th>930</th>\n      <td>O22097197RUS</td>\n      <td>1</td>\n      <td>24300.00</td>\n      <td>Ford</td>\n      <td>Focus</td>\n      <td>1982</td>\n      <td>NaN</td>\n    </tr>\n    <tr>\n      <th>931</th>\n      <td>M0309X197RUS</td>\n      <td>1</td>\n      <td>22300.00</td>\n      <td>Ford</td>\n      <td>Focus</td>\n      <td>1998</td>\n      <td>NaN</td>\n    </tr>\n    <tr>\n      <th>932</th>\n      <td>O673E8197RUS</td>\n      <td>2</td>\n      <td>600.00</td>\n      <td>Ford</td>\n      <td>Focus</td>\n      <td>1985</td>\n      <td>NaN</td>\n    </tr>\n    <tr>\n      <th>933</th>\n      <td>8610T8154RUS</td>\n      <td>1</td>\n      <td>2000.00</td>\n      <td>Ford</td>\n      <td>Focus</td>\n      <td>1995</td>\n      <td>NaN</td>\n    </tr>\n  </tbody>\n</table>\n<p>934 rows × 7 columns</p>\n</div>"
     },
     "execution_count": 19,
     "metadata": {},
     "output_type": "execute_result"
    }
   ],
   "source": [
    "df_outer = pd.merge(df_fines, df_owners, on='CarNumber', how='outer')\n",
    "df_outer"
   ],
   "metadata": {
    "collapsed": false,
    "pycharm": {
     "name": "#%%\n"
    }
   }
  },
  {
   "cell_type": "code",
   "execution_count": 20,
   "outputs": [
    {
     "data": {
      "text/plain": "        CarNumber  Refund    Fines    Make  Model  Year SURNAME\n0    Y163O8161RUS       2  3200.00    Ford  Focus  1989   JAMES\n1     E432XX77RUS       1  6500.00  Toyota  Camry  1995  HUGHES\n2     7184TT36RUS       1  2100.00    Ford  Focus  1984   ORTIZ\n3    X582HE161RUS       2  2000.00    Ford  Focus  2015  THOMAS\n4    92918M178RUS       1  5700.00    Ford  Focus  2014   REYES\n..            ...     ...      ...     ...    ...   ...     ...\n929  C584EY154RUS       1   500.00    Ford  Focus  2014  HUGHES\n930  T395KX197RUS       2 15200.00    Ford  Focus  2016  ROGERS\n931  8441XX154RUS       1   500.00    Ford  Focus  1994  ROGERS\n932  C590EY154RUS       2  8594.59    Ford  Focus  1982   GOMEZ\n933   T171CC96RUS       1  1000.00    Ford  Focus  2017    CRUZ\n\n[934 rows x 7 columns]",
      "text/html": "<div>\n<style scoped>\n    .dataframe tbody tr th:only-of-type {\n        vertical-align: middle;\n    }\n\n    .dataframe tbody tr th {\n        vertical-align: top;\n    }\n\n    .dataframe thead th {\n        text-align: right;\n    }\n</style>\n<table border=\"1\" class=\"dataframe\">\n  <thead>\n    <tr style=\"text-align: right;\">\n      <th></th>\n      <th>CarNumber</th>\n      <th>Refund</th>\n      <th>Fines</th>\n      <th>Make</th>\n      <th>Model</th>\n      <th>Year</th>\n      <th>SURNAME</th>\n    </tr>\n  </thead>\n  <tbody>\n    <tr>\n      <th>0</th>\n      <td>Y163O8161RUS</td>\n      <td>2</td>\n      <td>3200.00</td>\n      <td>Ford</td>\n      <td>Focus</td>\n      <td>1989</td>\n      <td>JAMES</td>\n    </tr>\n    <tr>\n      <th>1</th>\n      <td>E432XX77RUS</td>\n      <td>1</td>\n      <td>6500.00</td>\n      <td>Toyota</td>\n      <td>Camry</td>\n      <td>1995</td>\n      <td>HUGHES</td>\n    </tr>\n    <tr>\n      <th>2</th>\n      <td>7184TT36RUS</td>\n      <td>1</td>\n      <td>2100.00</td>\n      <td>Ford</td>\n      <td>Focus</td>\n      <td>1984</td>\n      <td>ORTIZ</td>\n    </tr>\n    <tr>\n      <th>3</th>\n      <td>X582HE161RUS</td>\n      <td>2</td>\n      <td>2000.00</td>\n      <td>Ford</td>\n      <td>Focus</td>\n      <td>2015</td>\n      <td>THOMAS</td>\n    </tr>\n    <tr>\n      <th>4</th>\n      <td>92918M178RUS</td>\n      <td>1</td>\n      <td>5700.00</td>\n      <td>Ford</td>\n      <td>Focus</td>\n      <td>2014</td>\n      <td>REYES</td>\n    </tr>\n    <tr>\n      <th>...</th>\n      <td>...</td>\n      <td>...</td>\n      <td>...</td>\n      <td>...</td>\n      <td>...</td>\n      <td>...</td>\n      <td>...</td>\n    </tr>\n    <tr>\n      <th>929</th>\n      <td>C584EY154RUS</td>\n      <td>1</td>\n      <td>500.00</td>\n      <td>Ford</td>\n      <td>Focus</td>\n      <td>2014</td>\n      <td>HUGHES</td>\n    </tr>\n    <tr>\n      <th>930</th>\n      <td>T395KX197RUS</td>\n      <td>2</td>\n      <td>15200.00</td>\n      <td>Ford</td>\n      <td>Focus</td>\n      <td>2016</td>\n      <td>ROGERS</td>\n    </tr>\n    <tr>\n      <th>931</th>\n      <td>8441XX154RUS</td>\n      <td>1</td>\n      <td>500.00</td>\n      <td>Ford</td>\n      <td>Focus</td>\n      <td>1994</td>\n      <td>ROGERS</td>\n    </tr>\n    <tr>\n      <th>932</th>\n      <td>C590EY154RUS</td>\n      <td>2</td>\n      <td>8594.59</td>\n      <td>Ford</td>\n      <td>Focus</td>\n      <td>1982</td>\n      <td>GOMEZ</td>\n    </tr>\n    <tr>\n      <th>933</th>\n      <td>T171CC96RUS</td>\n      <td>1</td>\n      <td>1000.00</td>\n      <td>Ford</td>\n      <td>Focus</td>\n      <td>2017</td>\n      <td>CRUZ</td>\n    </tr>\n  </tbody>\n</table>\n<p>934 rows × 7 columns</p>\n</div>"
     },
     "execution_count": 20,
     "metadata": {},
     "output_type": "execute_result"
    }
   ],
   "source": [
    "df_left = pd.merge(df_fines, df_owners, on='CarNumber', how='left')\n",
    "df_left"
   ],
   "metadata": {
    "collapsed": false,
    "pycharm": {
     "name": "#%%\n"
    }
   }
  },
  {
   "cell_type": "code",
   "execution_count": 21,
   "outputs": [
    {
     "data": {
      "text/plain": "        CarNumber  Refund    Fines    Make    Model  Year  SURNAME\n0    Y163O8161RUS       2  3200.00    Ford    Focus  1989    JAMES\n1    Y163O8161RUS       2  1600.00    Ford    Focus  1980    JAMES\n2     E432XX77RUS       1  6500.00  Toyota    Camry  1995   HUGHES\n3     E432XX77RUS       2 13000.00  Toyota    Camry  2018   HUGHES\n4     7184TT36RUS       1  2100.00    Ford    Focus  1984    ORTIZ\n..            ...     ...      ...     ...      ...   ...      ...\n903  7608EE777RUS       1  4000.00   Skoda  Octavia  1991   RIVERA\n904  704687163RUS       2  1400.00    Ford    Focus  2004    LOPEZ\n905  97968K152RUS       2   500.00    Ford    Focus  1985  STEWART\n906  97968K152RUS       2   500.00    Ford    Focus  1999  STEWART\n907  82337X197RUS       2  2100.00    Ford    Focus  2008  MENDOZA\n\n[908 rows x 7 columns]",
      "text/html": "<div>\n<style scoped>\n    .dataframe tbody tr th:only-of-type {\n        vertical-align: middle;\n    }\n\n    .dataframe tbody tr th {\n        vertical-align: top;\n    }\n\n    .dataframe thead th {\n        text-align: right;\n    }\n</style>\n<table border=\"1\" class=\"dataframe\">\n  <thead>\n    <tr style=\"text-align: right;\">\n      <th></th>\n      <th>CarNumber</th>\n      <th>Refund</th>\n      <th>Fines</th>\n      <th>Make</th>\n      <th>Model</th>\n      <th>Year</th>\n      <th>SURNAME</th>\n    </tr>\n  </thead>\n  <tbody>\n    <tr>\n      <th>0</th>\n      <td>Y163O8161RUS</td>\n      <td>2</td>\n      <td>3200.00</td>\n      <td>Ford</td>\n      <td>Focus</td>\n      <td>1989</td>\n      <td>JAMES</td>\n    </tr>\n    <tr>\n      <th>1</th>\n      <td>Y163O8161RUS</td>\n      <td>2</td>\n      <td>1600.00</td>\n      <td>Ford</td>\n      <td>Focus</td>\n      <td>1980</td>\n      <td>JAMES</td>\n    </tr>\n    <tr>\n      <th>2</th>\n      <td>E432XX77RUS</td>\n      <td>1</td>\n      <td>6500.00</td>\n      <td>Toyota</td>\n      <td>Camry</td>\n      <td>1995</td>\n      <td>HUGHES</td>\n    </tr>\n    <tr>\n      <th>3</th>\n      <td>E432XX77RUS</td>\n      <td>2</td>\n      <td>13000.00</td>\n      <td>Toyota</td>\n      <td>Camry</td>\n      <td>2018</td>\n      <td>HUGHES</td>\n    </tr>\n    <tr>\n      <th>4</th>\n      <td>7184TT36RUS</td>\n      <td>1</td>\n      <td>2100.00</td>\n      <td>Ford</td>\n      <td>Focus</td>\n      <td>1984</td>\n      <td>ORTIZ</td>\n    </tr>\n    <tr>\n      <th>...</th>\n      <td>...</td>\n      <td>...</td>\n      <td>...</td>\n      <td>...</td>\n      <td>...</td>\n      <td>...</td>\n      <td>...</td>\n    </tr>\n    <tr>\n      <th>903</th>\n      <td>7608EE777RUS</td>\n      <td>1</td>\n      <td>4000.00</td>\n      <td>Skoda</td>\n      <td>Octavia</td>\n      <td>1991</td>\n      <td>RIVERA</td>\n    </tr>\n    <tr>\n      <th>904</th>\n      <td>704687163RUS</td>\n      <td>2</td>\n      <td>1400.00</td>\n      <td>Ford</td>\n      <td>Focus</td>\n      <td>2004</td>\n      <td>LOPEZ</td>\n    </tr>\n    <tr>\n      <th>905</th>\n      <td>97968K152RUS</td>\n      <td>2</td>\n      <td>500.00</td>\n      <td>Ford</td>\n      <td>Focus</td>\n      <td>1985</td>\n      <td>STEWART</td>\n    </tr>\n    <tr>\n      <th>906</th>\n      <td>97968K152RUS</td>\n      <td>2</td>\n      <td>500.00</td>\n      <td>Ford</td>\n      <td>Focus</td>\n      <td>1999</td>\n      <td>STEWART</td>\n    </tr>\n    <tr>\n      <th>907</th>\n      <td>82337X197RUS</td>\n      <td>2</td>\n      <td>2100.00</td>\n      <td>Ford</td>\n      <td>Focus</td>\n      <td>2008</td>\n      <td>MENDOZA</td>\n    </tr>\n  </tbody>\n</table>\n<p>908 rows × 7 columns</p>\n</div>"
     },
     "execution_count": 21,
     "metadata": {},
     "output_type": "execute_result"
    }
   ],
   "source": [
    "df_right = pd.merge(df_fines, df_owners, on='CarNumber', how='right')\n",
    "df_right"
   ],
   "metadata": {
    "collapsed": false,
    "pycharm": {
     "name": "#%%\n"
    }
   }
  },
  {
   "cell_type": "code",
   "execution_count": 22,
   "outputs": [
    {
     "data": {
      "text/plain": "Year                    1980      1981      1982     1983     1984      1985  \\\nMake       Model                                                               \nFord       Focus   110294.59 408983.76 174478.35 64800.00 96989.17 162683.76   \n           Mondeo        NaN       NaN       NaN      NaN      NaN       NaN   \nSkoda      Octavia   2400.00       NaN   7300.00 11594.59      NaN  10294.59   \nToyota     Camry    12000.00   8594.59       NaN  7200.00      NaN       NaN   \n           Corolla       NaN       NaN   2000.00      NaN      NaN       NaN   \nVolkswagen Golf     30900.00       NaN       NaN  8594.59   300.00  24000.00   \n           Jetta         NaN       NaN       NaN      NaN      NaN       NaN   \n           Passat        NaN   1600.00       NaN  3200.00 10000.00   5000.00   \n           Touareg       NaN       NaN       NaN      NaN      NaN   5800.00   \n\nYear                   1986      1987      1988      1989  ...      2010  \\\nMake       Model                                           ...             \nFord       Focus   96589.17 125700.00 111789.17 176094.59  ... 142678.35   \n           Mondeo       NaN       NaN       NaN   8600.00  ...       NaN   \nSkoda      Octavia   600.00   5200.00   5200.00  91400.00  ...   3100.00   \nToyota     Camry        NaN       NaN       NaN  22400.00  ...       NaN   \n           Corolla      NaN  14900.00       NaN   4000.00  ...  24000.00   \nVolkswagen Golf         NaN  44800.00       NaN   5800.00  ...       NaN   \n           Jetta        NaN       NaN       NaN       NaN  ...       NaN   \n           Passat  15000.00  12300.00       NaN       NaN  ...   2800.00   \n           Touareg      NaN       NaN       NaN       NaN  ...   6300.00   \n\nYear                    2011     2012      2013      2014      2015      2016  \\\nMake       Model                                                                \nFord       Focus   103478.35 97100.00 139394.59 123178.35 209100.00 113289.17   \n           Mondeo        NaN 34400.00       NaN       NaN       NaN  46200.00   \nSkoda      Octavia    500.00   500.00  12594.59    300.00  46394.59    300.00   \nToyota     Camry         NaN  8594.59       NaN   1000.00       NaN       NaN   \n           Corolla   8594.59 30300.00       NaN       NaN       NaN    900.00   \nVolkswagen Golf       300.00      NaN  20800.00       NaN   2300.00       NaN   \n           Jetta         NaN      NaN       NaN       NaN       NaN       NaN   \n           Passat        NaN      NaN       NaN       NaN    600.00   2100.00   \n           Touareg       NaN      NaN       NaN   1300.00    500.00       NaN   \n\nYear                    2017      2018     2019  \nMake       Model                                 \nFord       Focus   264000.00 274089.17 78889.17  \n           Mondeo        NaN       NaN      NaN  \nSkoda      Octavia   8594.59 156200.00  9500.00  \nToyota     Camry         NaN  21594.59 18100.00  \n           Corolla   9600.00   7600.00      NaN  \nVolkswagen Golf          NaN   1000.00      NaN  \n           Jetta         NaN       NaN      NaN  \n           Passat        NaN       NaN      NaN  \n           Touareg       NaN       NaN      NaN  \n\n[9 rows x 40 columns]",
      "text/html": "<div>\n<style scoped>\n    .dataframe tbody tr th:only-of-type {\n        vertical-align: middle;\n    }\n\n    .dataframe tbody tr th {\n        vertical-align: top;\n    }\n\n    .dataframe thead th {\n        text-align: right;\n    }\n</style>\n<table border=\"1\" class=\"dataframe\">\n  <thead>\n    <tr style=\"text-align: right;\">\n      <th></th>\n      <th>Year</th>\n      <th>1980</th>\n      <th>1981</th>\n      <th>1982</th>\n      <th>1983</th>\n      <th>1984</th>\n      <th>1985</th>\n      <th>1986</th>\n      <th>1987</th>\n      <th>1988</th>\n      <th>1989</th>\n      <th>...</th>\n      <th>2010</th>\n      <th>2011</th>\n      <th>2012</th>\n      <th>2013</th>\n      <th>2014</th>\n      <th>2015</th>\n      <th>2016</th>\n      <th>2017</th>\n      <th>2018</th>\n      <th>2019</th>\n    </tr>\n    <tr>\n      <th>Make</th>\n      <th>Model</th>\n      <th></th>\n      <th></th>\n      <th></th>\n      <th></th>\n      <th></th>\n      <th></th>\n      <th></th>\n      <th></th>\n      <th></th>\n      <th></th>\n      <th></th>\n      <th></th>\n      <th></th>\n      <th></th>\n      <th></th>\n      <th></th>\n      <th></th>\n      <th></th>\n      <th></th>\n      <th></th>\n      <th></th>\n    </tr>\n  </thead>\n  <tbody>\n    <tr>\n      <th rowspan=\"2\" valign=\"top\">Ford</th>\n      <th>Focus</th>\n      <td>110294.59</td>\n      <td>408983.76</td>\n      <td>174478.35</td>\n      <td>64800.00</td>\n      <td>96989.17</td>\n      <td>162683.76</td>\n      <td>96589.17</td>\n      <td>125700.00</td>\n      <td>111789.17</td>\n      <td>176094.59</td>\n      <td>...</td>\n      <td>142678.35</td>\n      <td>103478.35</td>\n      <td>97100.00</td>\n      <td>139394.59</td>\n      <td>123178.35</td>\n      <td>209100.00</td>\n      <td>113289.17</td>\n      <td>264000.00</td>\n      <td>274089.17</td>\n      <td>78889.17</td>\n    </tr>\n    <tr>\n      <th>Mondeo</th>\n      <td>NaN</td>\n      <td>NaN</td>\n      <td>NaN</td>\n      <td>NaN</td>\n      <td>NaN</td>\n      <td>NaN</td>\n      <td>NaN</td>\n      <td>NaN</td>\n      <td>NaN</td>\n      <td>8600.00</td>\n      <td>...</td>\n      <td>NaN</td>\n      <td>NaN</td>\n      <td>34400.00</td>\n      <td>NaN</td>\n      <td>NaN</td>\n      <td>NaN</td>\n      <td>46200.00</td>\n      <td>NaN</td>\n      <td>NaN</td>\n      <td>NaN</td>\n    </tr>\n    <tr>\n      <th>Skoda</th>\n      <th>Octavia</th>\n      <td>2400.00</td>\n      <td>NaN</td>\n      <td>7300.00</td>\n      <td>11594.59</td>\n      <td>NaN</td>\n      <td>10294.59</td>\n      <td>600.00</td>\n      <td>5200.00</td>\n      <td>5200.00</td>\n      <td>91400.00</td>\n      <td>...</td>\n      <td>3100.00</td>\n      <td>500.00</td>\n      <td>500.00</td>\n      <td>12594.59</td>\n      <td>300.00</td>\n      <td>46394.59</td>\n      <td>300.00</td>\n      <td>8594.59</td>\n      <td>156200.00</td>\n      <td>9500.00</td>\n    </tr>\n    <tr>\n      <th rowspan=\"2\" valign=\"top\">Toyota</th>\n      <th>Camry</th>\n      <td>12000.00</td>\n      <td>8594.59</td>\n      <td>NaN</td>\n      <td>7200.00</td>\n      <td>NaN</td>\n      <td>NaN</td>\n      <td>NaN</td>\n      <td>NaN</td>\n      <td>NaN</td>\n      <td>22400.00</td>\n      <td>...</td>\n      <td>NaN</td>\n      <td>NaN</td>\n      <td>8594.59</td>\n      <td>NaN</td>\n      <td>1000.00</td>\n      <td>NaN</td>\n      <td>NaN</td>\n      <td>NaN</td>\n      <td>21594.59</td>\n      <td>18100.00</td>\n    </tr>\n    <tr>\n      <th>Corolla</th>\n      <td>NaN</td>\n      <td>NaN</td>\n      <td>2000.00</td>\n      <td>NaN</td>\n      <td>NaN</td>\n      <td>NaN</td>\n      <td>NaN</td>\n      <td>14900.00</td>\n      <td>NaN</td>\n      <td>4000.00</td>\n      <td>...</td>\n      <td>24000.00</td>\n      <td>8594.59</td>\n      <td>30300.00</td>\n      <td>NaN</td>\n      <td>NaN</td>\n      <td>NaN</td>\n      <td>900.00</td>\n      <td>9600.00</td>\n      <td>7600.00</td>\n      <td>NaN</td>\n    </tr>\n    <tr>\n      <th rowspan=\"4\" valign=\"top\">Volkswagen</th>\n      <th>Golf</th>\n      <td>30900.00</td>\n      <td>NaN</td>\n      <td>NaN</td>\n      <td>8594.59</td>\n      <td>300.00</td>\n      <td>24000.00</td>\n      <td>NaN</td>\n      <td>44800.00</td>\n      <td>NaN</td>\n      <td>5800.00</td>\n      <td>...</td>\n      <td>NaN</td>\n      <td>300.00</td>\n      <td>NaN</td>\n      <td>20800.00</td>\n      <td>NaN</td>\n      <td>2300.00</td>\n      <td>NaN</td>\n      <td>NaN</td>\n      <td>1000.00</td>\n      <td>NaN</td>\n    </tr>\n    <tr>\n      <th>Jetta</th>\n      <td>NaN</td>\n      <td>NaN</td>\n      <td>NaN</td>\n      <td>NaN</td>\n      <td>NaN</td>\n      <td>NaN</td>\n      <td>NaN</td>\n      <td>NaN</td>\n      <td>NaN</td>\n      <td>NaN</td>\n      <td>...</td>\n      <td>NaN</td>\n      <td>NaN</td>\n      <td>NaN</td>\n      <td>NaN</td>\n      <td>NaN</td>\n      <td>NaN</td>\n      <td>NaN</td>\n      <td>NaN</td>\n      <td>NaN</td>\n      <td>NaN</td>\n    </tr>\n    <tr>\n      <th>Passat</th>\n      <td>NaN</td>\n      <td>1600.00</td>\n      <td>NaN</td>\n      <td>3200.00</td>\n      <td>10000.00</td>\n      <td>5000.00</td>\n      <td>15000.00</td>\n      <td>12300.00</td>\n      <td>NaN</td>\n      <td>NaN</td>\n      <td>...</td>\n      <td>2800.00</td>\n      <td>NaN</td>\n      <td>NaN</td>\n      <td>NaN</td>\n      <td>NaN</td>\n      <td>600.00</td>\n      <td>2100.00</td>\n      <td>NaN</td>\n      <td>NaN</td>\n      <td>NaN</td>\n    </tr>\n    <tr>\n      <th>Touareg</th>\n      <td>NaN</td>\n      <td>NaN</td>\n      <td>NaN</td>\n      <td>NaN</td>\n      <td>NaN</td>\n      <td>5800.00</td>\n      <td>NaN</td>\n      <td>NaN</td>\n      <td>NaN</td>\n      <td>NaN</td>\n      <td>...</td>\n      <td>6300.00</td>\n      <td>NaN</td>\n      <td>NaN</td>\n      <td>NaN</td>\n      <td>1300.00</td>\n      <td>500.00</td>\n      <td>NaN</td>\n      <td>NaN</td>\n      <td>NaN</td>\n      <td>NaN</td>\n    </tr>\n  </tbody>\n</table>\n<p>9 rows × 40 columns</p>\n</div>"
     },
     "execution_count": 22,
     "metadata": {},
     "output_type": "execute_result"
    }
   ],
   "source": [
    "pd.pivot_table(df_fines, columns='Year', values='Fines', index=['Make', 'Model'], aggfunc={'Fines': np.sum})"
   ],
   "metadata": {
    "collapsed": false,
    "pycharm": {
     "name": "#%%\n"
    }
   }
  },
  {
   "cell_type": "code",
   "execution_count": 23,
   "outputs": [],
   "source": [
    "df_fines.to_csv('fines.csv', index=False)\n",
    "df_owners.to_csv('owners.csv', index=False)"
   ],
   "metadata": {
    "collapsed": false,
    "pycharm": {
     "name": "#%%\n"
    }
   }
  },
  {
   "cell_type": "code",
   "execution_count": null,
   "outputs": [],
   "source": [],
   "metadata": {
    "collapsed": false,
    "pycharm": {
     "name": "#%%\n"
    }
   }
  }
 ],
 "metadata": {
  "kernelspec": {
   "display_name": "Python 3",
   "language": "python",
   "name": "python3"
  },
  "language_info": {
   "codemirror_mode": {
    "name": "ipython",
    "version": 2
   },
   "file_extension": ".py",
   "mimetype": "text/x-python",
   "name": "python",
   "nbconvert_exporter": "python",
   "pygments_lexer": "ipython2",
   "version": "2.7.6"
  }
 },
 "nbformat": 4,
 "nbformat_minor": 0
}