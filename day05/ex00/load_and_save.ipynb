{
 "cells": [
  {
   "cell_type": "code",
   "execution_count": 1,
   "metadata": {
    "collapsed": true
   },
   "outputs": [],
   "source": [
    "import pandas as pd"
   ]
  },
  {
   "cell_type": "code",
   "execution_count": 2,
   "outputs": [
    {
     "data": {
      "text/plain": "                              user\ndatetime                          \n2020-04-17 12:01:08.463179   artem\n2020-04-17 12:01:23.743946   artem\n2020-04-17 12:35:52.735016   artem\n2020-04-17 12:36:21.401412  oksana\n2020-04-17 12:36:22.023355  oksana",
      "text/html": "<div>\n<style scoped>\n    .dataframe tbody tr th:only-of-type {\n        vertical-align: middle;\n    }\n\n    .dataframe tbody tr th {\n        vertical-align: top;\n    }\n\n    .dataframe thead th {\n        text-align: right;\n    }\n</style>\n<table border=\"1\" class=\"dataframe\">\n  <thead>\n    <tr style=\"text-align: right;\">\n      <th></th>\n      <th>user</th>\n    </tr>\n    <tr>\n      <th>datetime</th>\n      <th></th>\n    </tr>\n  </thead>\n  <tbody>\n    <tr>\n      <th>2020-04-17 12:01:08.463179</th>\n      <td>artem</td>\n    </tr>\n    <tr>\n      <th>2020-04-17 12:01:23.743946</th>\n      <td>artem</td>\n    </tr>\n    <tr>\n      <th>2020-04-17 12:35:52.735016</th>\n      <td>artem</td>\n    </tr>\n    <tr>\n      <th>2020-04-17 12:36:21.401412</th>\n      <td>oksana</td>\n    </tr>\n    <tr>\n      <th>2020-04-17 12:36:22.023355</th>\n      <td>oksana</td>\n    </tr>\n  </tbody>\n</table>\n</div>"
     },
     "execution_count": 2,
     "metadata": {},
     "output_type": "execute_result"
    }
   ],
   "source": [
    "df = pd.read_csv(\"feed-views.log\", sep='\\t', skiprows=[2,3], skipfooter=2, names=['datetime', 'user'], index_col='datetime', engine='python')\n",
    "df.head()"
   ],
   "metadata": {
    "collapsed": false,
    "pycharm": {
     "name": "#%%\n"
    }
   }
  },
  {
   "cell_type": "code",
   "execution_count": 3,
   "outputs": [
    {
     "data": {
      "text/plain": "                                 user\ndatetime                             \n2020-05-21 16:36:40.915488  ekaterina\n2020-05-21 17:49:36.429237      maxim\n2020-05-21 18:45:20.441142  valentina\n2020-05-21 23:03:06.457819      maxim\n2020-05-21 23:23:49.995349      pavel",
      "text/html": "<div>\n<style scoped>\n    .dataframe tbody tr th:only-of-type {\n        vertical-align: middle;\n    }\n\n    .dataframe tbody tr th {\n        vertical-align: top;\n    }\n\n    .dataframe thead th {\n        text-align: right;\n    }\n</style>\n<table border=\"1\" class=\"dataframe\">\n  <thead>\n    <tr style=\"text-align: right;\">\n      <th></th>\n      <th>user</th>\n    </tr>\n    <tr>\n      <th>datetime</th>\n      <th></th>\n    </tr>\n  </thead>\n  <tbody>\n    <tr>\n      <th>2020-05-21 16:36:40.915488</th>\n      <td>ekaterina</td>\n    </tr>\n    <tr>\n      <th>2020-05-21 17:49:36.429237</th>\n      <td>maxim</td>\n    </tr>\n    <tr>\n      <th>2020-05-21 18:45:20.441142</th>\n      <td>valentina</td>\n    </tr>\n    <tr>\n      <th>2020-05-21 23:03:06.457819</th>\n      <td>maxim</td>\n    </tr>\n    <tr>\n      <th>2020-05-21 23:23:49.995349</th>\n      <td>pavel</td>\n    </tr>\n  </tbody>\n</table>\n</div>"
     },
     "execution_count": 3,
     "metadata": {},
     "output_type": "execute_result"
    }
   ],
   "source": [
    "df.index_name = 'date_time'\n",
    "df.tail()"
   ],
   "metadata": {
    "collapsed": false,
    "pycharm": {
     "name": "#%%\n"
    }
   }
  },
  {
   "cell_type": "code",
   "execution_count": 4,
   "outputs": [],
   "source": [
    "df.to_csv('feed-views-semicolon.log', sep=';')"
   ],
   "metadata": {
    "collapsed": false,
    "pycharm": {
     "name": "#%%\n"
    }
   }
  }
 ],
 "metadata": {
  "kernelspec": {
   "display_name": "Python 3",
   "language": "python",
   "name": "python3"
  },
  "language_info": {
   "codemirror_mode": {
    "name": "ipython",
    "version": 2
   },
   "file_extension": ".py",
   "mimetype": "text/x-python",
   "name": "python",
   "nbconvert_exporter": "python",
   "pygments_lexer": "ipython2",
   "version": "2.7.6"
  }
 },
 "nbformat": 4,
 "nbformat_minor": 0
}