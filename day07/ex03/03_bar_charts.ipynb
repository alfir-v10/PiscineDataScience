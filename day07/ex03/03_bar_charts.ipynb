{
 "cells": [
  {
   "cell_type": "code",
   "execution_count": 46,
   "metadata": {
    "collapsed": true,
    "pycharm": {
     "name": "#%%\n"
    }
   },
   "outputs": [],
   "source": [
    "import pandas as pd\n",
    "import sqlite3"
   ]
  },
  {
   "cell_type": "code",
   "execution_count": 47,
   "outputs": [],
   "source": [
    "sql_conn = sqlite3.connect('../data/checking-logs.sqlite')"
   ],
   "metadata": {
    "collapsed": false,
    "pycharm": {
     "name": "#%%\n"
    }
   }
  },
  {
   "cell_type": "code",
   "execution_count": 48,
   "outputs": [
    {
     "data": {
      "text/plain": "         date  hour  dayofweeks\n0  2020-04-17     5           4\n1  2020-04-17     5           4\n2  2020-04-17     5           4\n3  2020-04-17     5           4\n4  2020-04-17     5           4",
      "text/html": "<div>\n<style scoped>\n    .dataframe tbody tr th:only-of-type {\n        vertical-align: middle;\n    }\n\n    .dataframe tbody tr th {\n        vertical-align: top;\n    }\n\n    .dataframe thead th {\n        text-align: right;\n    }\n</style>\n<table border=\"1\" class=\"dataframe\">\n  <thead>\n    <tr style=\"text-align: right;\">\n      <th></th>\n      <th>date</th>\n      <th>hour</th>\n      <th>dayofweeks</th>\n    </tr>\n  </thead>\n  <tbody>\n    <tr>\n      <th>0</th>\n      <td>2020-04-17</td>\n      <td>5</td>\n      <td>4</td>\n    </tr>\n    <tr>\n      <th>1</th>\n      <td>2020-04-17</td>\n      <td>5</td>\n      <td>4</td>\n    </tr>\n    <tr>\n      <th>2</th>\n      <td>2020-04-17</td>\n      <td>5</td>\n      <td>4</td>\n    </tr>\n    <tr>\n      <th>3</th>\n      <td>2020-04-17</td>\n      <td>5</td>\n      <td>4</td>\n    </tr>\n    <tr>\n      <th>4</th>\n      <td>2020-04-17</td>\n      <td>5</td>\n      <td>4</td>\n    </tr>\n  </tbody>\n</table>\n</div>"
     },
     "execution_count": 48,
     "metadata": {},
     "output_type": "execute_result"
    }
   ],
   "source": [
    "query = \"\"\"\n",
    "    SELECT timestamp\n",
    "    FROM checker\n",
    "    WHERE uid LIKE 'user_%'\n",
    "\"\"\"\n",
    "df_commits = pd.io.sql.read_sql(query, sql_conn, parse_dates=['timestamp'])\n",
    "df_commits['date'] = df_commits.timestamp.dt.date\n",
    "df_commits['hour'] = df_commits.timestamp.dt.hour\n",
    "df_commits['dayofweeks'] = df_commits.timestamp.dt.dayofweek\n",
    "df_commits.drop(['timestamp'], axis=1, inplace=True)\n",
    "df_commits.head()"
   ],
   "metadata": {
    "collapsed": false,
    "pycharm": {
     "name": "#%%\n"
    }
   }
  },
  {
   "cell_type": "code",
   "execution_count": 49,
   "outputs": [
    {
     "data": {
      "text/plain": "            date  hour  dayofweeks          day\n0     2020-04-17     5           4  working_day\n1     2020-04-17     5           4  working_day\n2     2020-04-17     5           4  working_day\n3     2020-04-17     5           4  working_day\n4     2020-04-17     5           4  working_day\n...          ...   ...         ...          ...\n3202  2020-05-21    20           3  working_day\n3203  2020-05-21    20           3  working_day\n3204  2020-05-21    20           3  working_day\n3205  2020-05-21    20           3  working_day\n3206  2020-05-21    20           3  working_day\n\n[3207 rows x 4 columns]",
      "text/html": "<div>\n<style scoped>\n    .dataframe tbody tr th:only-of-type {\n        vertical-align: middle;\n    }\n\n    .dataframe tbody tr th {\n        vertical-align: top;\n    }\n\n    .dataframe thead th {\n        text-align: right;\n    }\n</style>\n<table border=\"1\" class=\"dataframe\">\n  <thead>\n    <tr style=\"text-align: right;\">\n      <th></th>\n      <th>date</th>\n      <th>hour</th>\n      <th>dayofweeks</th>\n      <th>day</th>\n    </tr>\n  </thead>\n  <tbody>\n    <tr>\n      <th>0</th>\n      <td>2020-04-17</td>\n      <td>5</td>\n      <td>4</td>\n      <td>working_day</td>\n    </tr>\n    <tr>\n      <th>1</th>\n      <td>2020-04-17</td>\n      <td>5</td>\n      <td>4</td>\n      <td>working_day</td>\n    </tr>\n    <tr>\n      <th>2</th>\n      <td>2020-04-17</td>\n      <td>5</td>\n      <td>4</td>\n      <td>working_day</td>\n    </tr>\n    <tr>\n      <th>3</th>\n      <td>2020-04-17</td>\n      <td>5</td>\n      <td>4</td>\n      <td>working_day</td>\n    </tr>\n    <tr>\n      <th>4</th>\n      <td>2020-04-17</td>\n      <td>5</td>\n      <td>4</td>\n      <td>working_day</td>\n    </tr>\n    <tr>\n      <th>...</th>\n      <td>...</td>\n      <td>...</td>\n      <td>...</td>\n      <td>...</td>\n    </tr>\n    <tr>\n      <th>3202</th>\n      <td>2020-05-21</td>\n      <td>20</td>\n      <td>3</td>\n      <td>working_day</td>\n    </tr>\n    <tr>\n      <th>3203</th>\n      <td>2020-05-21</td>\n      <td>20</td>\n      <td>3</td>\n      <td>working_day</td>\n    </tr>\n    <tr>\n      <th>3204</th>\n      <td>2020-05-21</td>\n      <td>20</td>\n      <td>3</td>\n      <td>working_day</td>\n    </tr>\n    <tr>\n      <th>3205</th>\n      <td>2020-05-21</td>\n      <td>20</td>\n      <td>3</td>\n      <td>working_day</td>\n    </tr>\n    <tr>\n      <th>3206</th>\n      <td>2020-05-21</td>\n      <td>20</td>\n      <td>3</td>\n      <td>working_day</td>\n    </tr>\n  </tbody>\n</table>\n<p>3207 rows × 4 columns</p>\n</div>"
     },
     "execution_count": 49,
     "metadata": {},
     "output_type": "execute_result"
    }
   ],
   "source": [
    "df_commits['day'] = df_commits.dayofweeks.agg(lambda x: 'weekend' if x > 4 else 'working_day')\n",
    "df_commits"
   ],
   "metadata": {
    "collapsed": false,
    "pycharm": {
     "name": "#%%\n"
    }
   }
  },
  {
   "cell_type": "code",
   "execution_count": 50,
   "outputs": [
    {
     "data": {
      "text/plain": "<Figure size 1080x576 with 2 Axes>",
      "image/png": "[encoded data removed]"
     },
     "metadata": {
      "needs_background": "light"
     },
     "output_type": "display_data"
    }
   ],
   "source": [
    "df_weeks = df_commits.groupby(['day', 'date', 'hour']).count().groupby(['day', 'hour']).mean().reset_index()\n",
    "df_weeks = pd.pivot(df_weeks, values='dayofweeks', index='hour', columns='day')\n",
    "df_weeks.plot(kind='bar', subplots=True, fontsize=8, figsize=(15,8), title='Commits per day');"
   ],
   "metadata": {
    "collapsed": false,
    "pycharm": {
     "name": "#%%\n"
    }
   }
  },
  {
   "cell_type": "markdown",
   "source": [
    "## Is the dynamic different on working days and weekends?\n",
    "Answer: Yes, it's. Dynamic is different.\n",
    "## The number of commits is the largest during working days\n",
    "Answer: 21\n",
    "## The number of commits is the largest during weekend\n",
    "Answer: 11\n"
   ],
   "metadata": {
    "collapsed": false
   }
  },
  {
   "cell_type": "code",
   "execution_count": 51,
   "outputs": [],
   "source": [
    "sql_conn.close()"
   ],
   "metadata": {
    "collapsed": false,
    "pycharm": {
     "name": "#%%\n"
    }
   }
  }
 ],
 "metadata": {
  "kernelspec": {
   "display_name": "Python 3",
   "language": "python",
   "name": "python3"
  },
  "language_info": {
   "codemirror_mode": {
    "name": "ipython",
    "version": 2
   },
   "file_extension": ".py",
   "mimetype": "text/x-python",
   "name": "python",
   "nbconvert_exporter": "python",
   "pygments_lexer": "ipython2",
   "version": "2.7.6"
  }
 },
 "nbformat": 4,
 "nbformat_minor": 0
}