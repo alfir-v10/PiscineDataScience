{
 "cells": [
  {
   "cell_type": "code",
   "execution_count": 9,
   "outputs": [],
   "source": [
    "import pandas as pd\n",
    "import sqlite3"
   ],
   "metadata": {
    "collapsed": false,
    "pycharm": {
     "name": "#%%\n"
    }
   }
  },
  {
   "cell_type": "code",
   "execution_count": 10,
   "outputs": [],
   "source": [
    "sql_conn = sqlite3.connect('../data/checking-logs.sqlite')"
   ],
   "metadata": {
    "collapsed": false,
    "pycharm": {
     "name": "#%%\n"
    }
   }
  },
  {
   "cell_type": "code",
   "execution_count": 11,
   "outputs": [
    {
     "data": {
      "text/plain": "                   timestamp\n0 2020-04-17 05:19:02.744528\n1 2020-04-17 05:22:35.249331\n2 2020-04-17 05:22:45.549397\n3 2020-04-17 05:34:14.691200\n4 2020-04-17 05:34:24.422370",
      "text/html": "<div>\n<style scoped>\n    .dataframe tbody tr th:only-of-type {\n        vertical-align: middle;\n    }\n\n    .dataframe tbody tr th {\n        vertical-align: top;\n    }\n\n    .dataframe thead th {\n        text-align: right;\n    }\n</style>\n<table border=\"1\" class=\"dataframe\">\n  <thead>\n    <tr style=\"text-align: right;\">\n      <th></th>\n      <th>timestamp</th>\n    </tr>\n  </thead>\n  <tbody>\n    <tr>\n      <th>0</th>\n      <td>2020-04-17 05:19:02.744528</td>\n    </tr>\n    <tr>\n      <th>1</th>\n      <td>2020-04-17 05:22:35.249331</td>\n    </tr>\n    <tr>\n      <th>2</th>\n      <td>2020-04-17 05:22:45.549397</td>\n    </tr>\n    <tr>\n      <th>3</th>\n      <td>2020-04-17 05:34:14.691200</td>\n    </tr>\n    <tr>\n      <th>4</th>\n      <td>2020-04-17 05:34:24.422370</td>\n    </tr>\n  </tbody>\n</table>\n</div>"
     },
     "execution_count": 11,
     "metadata": {},
     "output_type": "execute_result"
    }
   ],
   "source": [
    "query = \"\"\"\n",
    "    SELECT timestamp\n",
    "    FROM checker\n",
    "    WHERE uid LIKE 'user_%'\n",
    "\"\"\"\n",
    "df_commits = pd.io.sql.read_sql(query, sql_conn, parse_dates=['timestamp'])\n",
    "df_commits.head()"
   ],
   "metadata": {
    "collapsed": false,
    "pycharm": {
     "name": "#%%\n"
    }
   }
  },
  {
   "cell_type": "code",
   "execution_count": 12,
   "outputs": [],
   "source": [
    "df_commits['date'] = df_commits.timestamp.dt.date\n",
    "df_commits['hour'] = df_commits.timestamp.dt.hour\n",
    "labels = ['night', 'morning', 'afternoon', 'evening']\n",
    "bins = [0, 4, 10, 17, 24]\n",
    "df_commits['daytime'] = pd.cut(df_commits.hour, labels=labels, bins=bins, include_lowest=True, right=False)\n",
    "df_commits.drop(['timestamp'], axis=1, inplace=True)"
   ],
   "metadata": {
    "collapsed": false,
    "pycharm": {
     "name": "#%%\n"
    }
   }
  },
  {
   "cell_type": "code",
   "execution_count": 13,
   "outputs": [
    {
     "data": {
      "text/plain": "           date    daytime  hour\n0    2020-04-17      night     0\n1    2020-04-17    morning    13\n2    2020-04-17  afternoon    10\n3    2020-04-17    evening     0\n4    2020-04-18      night     0\n..          ...        ...   ...\n135  2020-05-20    evening    10\n136  2020-05-21      night     0\n137  2020-05-21    morning     1\n138  2020-05-21  afternoon    27\n139  2020-05-21    evening    21\n\n[140 rows x 3 columns]",
      "text/html": "<div>\n<style scoped>\n    .dataframe tbody tr th:only-of-type {\n        vertical-align: middle;\n    }\n\n    .dataframe tbody tr th {\n        vertical-align: top;\n    }\n\n    .dataframe thead th {\n        text-align: right;\n    }\n</style>\n<table border=\"1\" class=\"dataframe\">\n  <thead>\n    <tr style=\"text-align: right;\">\n      <th></th>\n      <th>date</th>\n      <th>daytime</th>\n      <th>hour</th>\n    </tr>\n  </thead>\n  <tbody>\n    <tr>\n      <th>0</th>\n      <td>2020-04-17</td>\n      <td>night</td>\n      <td>0</td>\n    </tr>\n    <tr>\n      <th>1</th>\n      <td>2020-04-17</td>\n      <td>morning</td>\n      <td>13</td>\n    </tr>\n    <tr>\n      <th>2</th>\n      <td>2020-04-17</td>\n      <td>afternoon</td>\n      <td>10</td>\n    </tr>\n    <tr>\n      <th>3</th>\n      <td>2020-04-17</td>\n      <td>evening</td>\n      <td>0</td>\n    </tr>\n    <tr>\n      <th>4</th>\n      <td>2020-04-18</td>\n      <td>night</td>\n      <td>0</td>\n    </tr>\n    <tr>\n      <th>...</th>\n      <td>...</td>\n      <td>...</td>\n      <td>...</td>\n    </tr>\n    <tr>\n      <th>135</th>\n      <td>2020-05-20</td>\n      <td>evening</td>\n      <td>10</td>\n    </tr>\n    <tr>\n      <th>136</th>\n      <td>2020-05-21</td>\n      <td>night</td>\n      <td>0</td>\n    </tr>\n    <tr>\n      <th>137</th>\n      <td>2020-05-21</td>\n      <td>morning</td>\n      <td>1</td>\n    </tr>\n    <tr>\n      <th>138</th>\n      <td>2020-05-21</td>\n      <td>afternoon</td>\n      <td>27</td>\n    </tr>\n    <tr>\n      <th>139</th>\n      <td>2020-05-21</td>\n      <td>evening</td>\n      <td>21</td>\n    </tr>\n  </tbody>\n</table>\n<p>140 rows × 3 columns</p>\n</div>"
     },
     "execution_count": 13,
     "metadata": {},
     "output_type": "execute_result"
    }
   ],
   "source": [
    "df_commits = df_commits.groupby(['date', 'daytime']).count().reset_index()\n",
    "df_commits"
   ],
   "metadata": {
    "collapsed": false,
    "pycharm": {
     "name": "#%%\n"
    }
   }
  },
  {
   "cell_type": "code",
   "execution_count": 14,
   "outputs": [
    {
     "data": {
      "text/plain": "daytime     night  morning  afternoon  evening\ndate                                          \n2020-04-17      0       13         10        0\n2020-04-18      0        1         33       35\n2020-04-19      2        4         16       11\n2020-04-20      0        0         12       13\n2020-04-21      0        0          0       25\n2020-04-22      0        0          4       24\n2020-04-23      2        6         15       20\n2020-04-24      0        0          4       12\n2020-04-25      1       21         33       49\n2020-04-26      2        8         86      165\n2020-04-27      2        2          0        2\n2020-04-28      0        0          5        0\n2020-04-29      0        0          0       17\n2020-04-30      0        4         13       36\n2020-05-01      0        1          9       50\n2020-05-02      0        6        200       36\n2020-05-03      0       24         86       70\n2020-05-04      0        5         32        0\n2020-05-05      0       14        120        5\n2020-05-06      0        2          0        0\n2020-05-07      0        0         29       23\n2020-05-08      0        0         27       60\n2020-05-09      0        0         12       74\n2020-05-10      8        2        110       23\n2020-05-11      0        2         40      144\n2020-05-12      0       40         68      215\n2020-05-13      0        4         59      148\n2020-05-14      4        3        291      277\n2020-05-15      0        0         10        0\n2020-05-16      0        0          0        4\n2020-05-17      0        2         10       36\n2020-05-18      0        0          1        2\n2020-05-19      0       12         18        4\n2020-05-20      0        7         11       10\n2020-05-21      0        1         27       21",
      "text/html": "<div>\n<style scoped>\n    .dataframe tbody tr th:only-of-type {\n        vertical-align: middle;\n    }\n\n    .dataframe tbody tr th {\n        vertical-align: top;\n    }\n\n    .dataframe thead th {\n        text-align: right;\n    }\n</style>\n<table border=\"1\" class=\"dataframe\">\n  <thead>\n    <tr style=\"text-align: right;\">\n      <th>daytime</th>\n      <th>night</th>\n      <th>morning</th>\n      <th>afternoon</th>\n      <th>evening</th>\n    </tr>\n    <tr>\n      <th>date</th>\n      <th></th>\n      <th></th>\n      <th></th>\n      <th></th>\n    </tr>\n  </thead>\n  <tbody>\n    <tr>\n      <th>2020-04-17</th>\n      <td>0</td>\n      <td>13</td>\n      <td>10</td>\n      <td>0</td>\n    </tr>\n    <tr>\n      <th>2020-04-18</th>\n      <td>0</td>\n      <td>1</td>\n      <td>33</td>\n      <td>35</td>\n    </tr>\n    <tr>\n      <th>2020-04-19</th>\n      <td>2</td>\n      <td>4</td>\n      <td>16</td>\n      <td>11</td>\n    </tr>\n    <tr>\n      <th>2020-04-20</th>\n      <td>0</td>\n      <td>0</td>\n      <td>12</td>\n      <td>13</td>\n    </tr>\n    <tr>\n      <th>2020-04-21</th>\n      <td>0</td>\n      <td>0</td>\n      <td>0</td>\n      <td>25</td>\n    </tr>\n    <tr>\n      <th>2020-04-22</th>\n      <td>0</td>\n      <td>0</td>\n      <td>4</td>\n      <td>24</td>\n    </tr>\n    <tr>\n      <th>2020-04-23</th>\n      <td>2</td>\n      <td>6</td>\n      <td>15</td>\n      <td>20</td>\n    </tr>\n    <tr>\n      <th>2020-04-24</th>\n      <td>0</td>\n      <td>0</td>\n      <td>4</td>\n      <td>12</td>\n    </tr>\n    <tr>\n      <th>2020-04-25</th>\n      <td>1</td>\n      <td>21</td>\n      <td>33</td>\n      <td>49</td>\n    </tr>\n    <tr>\n      <th>2020-04-26</th>\n      <td>2</td>\n      <td>8</td>\n      <td>86</td>\n      <td>165</td>\n    </tr>\n    <tr>\n      <th>2020-04-27</th>\n      <td>2</td>\n      <td>2</td>\n      <td>0</td>\n      <td>2</td>\n    </tr>\n    <tr>\n      <th>2020-04-28</th>\n      <td>0</td>\n      <td>0</td>\n      <td>5</td>\n      <td>0</td>\n    </tr>\n    <tr>\n      <th>2020-04-29</th>\n      <td>0</td>\n      <td>0</td>\n      <td>0</td>\n      <td>17</td>\n    </tr>\n    <tr>\n      <th>2020-04-30</th>\n      <td>0</td>\n      <td>4</td>\n      <td>13</td>\n      <td>36</td>\n    </tr>\n    <tr>\n      <th>2020-05-01</th>\n      <td>0</td>\n      <td>1</td>\n      <td>9</td>\n      <td>50</td>\n    </tr>\n    <tr>\n      <th>2020-05-02</th>\n      <td>0</td>\n      <td>6</td>\n      <td>200</td>\n      <td>36</td>\n    </tr>\n    <tr>\n      <th>2020-05-03</th>\n      <td>0</td>\n      <td>24</td>\n      <td>86</td>\n      <td>70</td>\n    </tr>\n    <tr>\n      <th>2020-05-04</th>\n      <td>0</td>\n      <td>5</td>\n      <td>32</td>\n      <td>0</td>\n    </tr>\n    <tr>\n      <th>2020-05-05</th>\n      <td>0</td>\n      <td>14</td>\n      <td>120</td>\n      <td>5</td>\n    </tr>\n    <tr>\n      <th>2020-05-06</th>\n      <td>0</td>\n      <td>2</td>\n      <td>0</td>\n      <td>0</td>\n    </tr>\n    <tr>\n      <th>2020-05-07</th>\n      <td>0</td>\n      <td>0</td>\n      <td>29</td>\n      <td>23</td>\n    </tr>\n    <tr>\n      <th>2020-05-08</th>\n      <td>0</td>\n      <td>0</td>\n      <td>27</td>\n      <td>60</td>\n    </tr>\n    <tr>\n      <th>2020-05-09</th>\n      <td>0</td>\n      <td>0</td>\n      <td>12</td>\n      <td>74</td>\n    </tr>\n    <tr>\n      <th>2020-05-10</th>\n      <td>8</td>\n      <td>2</td>\n      <td>110</td>\n      <td>23</td>\n    </tr>\n    <tr>\n      <th>2020-05-11</th>\n      <td>0</td>\n      <td>2</td>\n      <td>40</td>\n      <td>144</td>\n    </tr>\n    <tr>\n      <th>2020-05-12</th>\n      <td>0</td>\n      <td>40</td>\n      <td>68</td>\n      <td>215</td>\n    </tr>\n    <tr>\n      <th>2020-05-13</th>\n      <td>0</td>\n      <td>4</td>\n      <td>59</td>\n      <td>148</td>\n    </tr>\n    <tr>\n      <th>2020-05-14</th>\n      <td>4</td>\n      <td>3</td>\n      <td>291</td>\n      <td>277</td>\n    </tr>\n    <tr>\n      <th>2020-05-15</th>\n      <td>0</td>\n      <td>0</td>\n      <td>10</td>\n      <td>0</td>\n    </tr>\n    <tr>\n      <th>2020-05-16</th>\n      <td>0</td>\n      <td>0</td>\n      <td>0</td>\n      <td>4</td>\n    </tr>\n    <tr>\n      <th>2020-05-17</th>\n      <td>0</td>\n      <td>2</td>\n      <td>10</td>\n      <td>36</td>\n    </tr>\n    <tr>\n      <th>2020-05-18</th>\n      <td>0</td>\n      <td>0</td>\n      <td>1</td>\n      <td>2</td>\n    </tr>\n    <tr>\n      <th>2020-05-19</th>\n      <td>0</td>\n      <td>12</td>\n      <td>18</td>\n      <td>4</td>\n    </tr>\n    <tr>\n      <th>2020-05-20</th>\n      <td>0</td>\n      <td>7</td>\n      <td>11</td>\n      <td>10</td>\n    </tr>\n    <tr>\n      <th>2020-05-21</th>\n      <td>0</td>\n      <td>1</td>\n      <td>27</td>\n      <td>21</td>\n    </tr>\n  </tbody>\n</table>\n</div>"
     },
     "execution_count": 14,
     "metadata": {},
     "output_type": "execute_result"
    }
   ],
   "source": [
    "df_pivot = pd.pivot(df_commits, values='hour', index='date', columns='daytime')\n",
    "df_pivot"
   ],
   "metadata": {
    "collapsed": false,
    "pycharm": {
     "name": "#%%\n"
    }
   }
  },
  {
   "cell_type": "code",
   "execution_count": 15,
   "outputs": [
    {
     "data": {
      "text/plain": "<Figure size 1080x576 with 1 Axes>",
      "image/png": "[encoded data removed]"
     },
     "metadata": {
      "needs_background": "light"
     },
     "output_type": "display_data"
    }
   ],
   "source": [
    "df_pivot.plot(kind='bar', stacked=True, fontsize=8, figsize=(15,8), title='Commits per day', colormap=\"Accent\").grid(axis='y')"
   ],
   "metadata": {
    "collapsed": false,
    "pycharm": {
     "name": "#%%\n"
    }
   }
  },
  {
   "cell_type": "code",
   "execution_count": 16,
   "outputs": [],
   "source": [
    "sql_conn.close()"
   ],
   "metadata": {
    "collapsed": false,
    "pycharm": {
     "name": "#%%\n"
    }
   }
  },
  {
   "cell_type": "markdown",
   "source": [
    "## When do our users usually commit the labs: in the night, morning, afternoon, or evening?\n",
    "Answer: afternoon, night\n",
    "\n",
    "## Which day has:\n",
    "    * the most number of commits\n",
    "    Answer: 2020-05-14\n",
    "    * and at the same time, the number of commits in the evening is higher than in the afternoon?\n",
    "    Answer: 2020-05-12"
   ],
   "metadata": {
    "collapsed": false,
    "pycharm": {
     "name": "#%% md\n"
    }
   }
  }
 ],
 "metadata": {
  "kernelspec": {
   "display_name": "Python 3",
   "language": "python",
   "name": "python3"
  },
  "language_info": {
   "codemirror_mode": {
    "name": "ipython",
    "version": 2
   },
   "file_extension": ".py",
   "mimetype": "text/x-python",
   "name": "python",
   "nbconvert_exporter": "python",
   "pygments_lexer": "ipython2",
   "version": "2.7.6"
  }
 },
 "nbformat": 4,
 "nbformat_minor": 0
}